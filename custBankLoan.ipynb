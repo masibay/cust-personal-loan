{
  "nbformat": 4,
  "nbformat_minor": 0,
  "metadata": {
    "colab": {
      "provenance": [],
      "authorship_tag": "ABX9TyMGTLHlJUFV52gh07y8/ch9",
      "include_colab_link": true
    },
    "kernelspec": {
      "name": "python3",
      "display_name": "Python 3"
    },
    "language_info": {
      "name": "python"
    }
  },
  "cells": [
    {
      "cell_type": "markdown",
      "metadata": {
        "id": "view-in-github",
        "colab_type": "text"
      },
      "source": [
        "<a href=\"https://colab.research.google.com/github/masibay/cust-personal-loan/blob/main/custBankLoan.ipynb\" target=\"_parent\"><img src=\"https://colab.research.google.com/assets/colab-badge.svg\" alt=\"Open In Colab\"/></a>"
      ]
    },
    {
      "cell_type": "markdown",
      "source": [
        "#DE Project : Customer Personal Loan\n",
        "\n",
        "1. **Input** :\n",
        "   - Dataset based on kaggle https://www.kaggle.com/datasets/mahnazarjmand/bank-personal-loan/data\n",
        "2. **Goal** : Analyzing Bank Customer Profiles to Assess Their Loan Application Eligibility Primary.\n",
        "\n",
        "Requirements:\n",
        "- Residency in one of the following counties: Los Angeles, Orange, San Francisco, Santa Clara, San Diego, Alameda, Sacramento, San Mateo, Contra Costa, Marin, Riverside.\n",
        "- Age range: Minimum of 23 years and a maximum of 65 years.\n",
        "- Minimum of 2 years of professional experience.\n",
        "- Minimum income requirements:\n",
        "  - 3000 USD/month in Los Angeles County.\n",
        "  - 2500 USD/month in counties outside Los Angeles County.\n",
        "\n",
        "3. **Output** :\n",
        "   - Data pipeline (Extract, Transform).\n",
        "   - Visualize Data.\n",
        "   - Classification Model (Random Forest)."
      ],
      "metadata": {
        "id": "i69P-WdRpmlV"
      }
    },
    {
      "cell_type": "markdown",
      "source": [
        "##Config Pyspark"
      ],
      "metadata": {
        "id": "V-SpSERTwFzn"
      }
    },
    {
      "cell_type": "code",
      "execution_count": null,
      "metadata": {
        "colab": {
          "base_uri": "https://localhost:8080/"
        },
        "id": "Guv-4WEFo0V5",
        "outputId": "5ee671c1-9355-476d-b293-d2cd10310948"
      },
      "outputs": [
        {
          "output_type": "stream",
          "name": "stdout",
          "text": [
            "\u001b[2K     \u001b[90m━━━━━━━━━━━━━━━━━━━━━━━━━━━━━━━━━━━━━━━━\u001b[0m \u001b[32m317.0/317.0 MB\u001b[0m \u001b[31m2.4 MB/s\u001b[0m eta \u001b[36m0:00:00\u001b[0m\n",
            "\u001b[?25h  Preparing metadata (setup.py) ... \u001b[?25l\u001b[?25hdone\n",
            "  Building wheel for pyspark (setup.py) ... \u001b[?25l\u001b[?25hdone\n"
          ]
        }
      ],
      "source": [
        "!pip install -q pyspark\n",
        "!pip install -q findspark"
      ]
    },
    {
      "cell_type": "code",
      "source": [
        "import pyspark\n",
        "from pyspark.sql import SparkSession\n",
        "import findspark\n",
        "findspark.init()"
      ],
      "metadata": {
        "id": "2kZ2V8vewN4P"
      },
      "execution_count": null,
      "outputs": []
    },
    {
      "cell_type": "code",
      "source": [
        "spark = SparkSession.builder.appName(\"custLoan\")\\\n",
        "        .master(\"local[*]\")\\\n",
        "        .config(\"spark.driver.memory\",\"12g\")\\\n",
        "        .config(\"spark.driver.maxResultSize\", \"0\")\\\n",
        "        .config(\"spark.python.worker.memory\", \"12g\")\\\n",
        "        .config(\"spark.memory.fraction\",\"0.6\")\\\n",
        "        .config(\"spark.shuffle.io.preferDirectBufs\", True)\\\n",
        "        .config(\"spark.sql.repl.eagerEval.enabled\", True)\\\n",
        "        .getOrCreate()"
      ],
      "metadata": {
        "id": "WkYfOd9hwSCm"
      },
      "execution_count": null,
      "outputs": []
    },
    {
      "cell_type": "markdown",
      "source": [
        "##Download Dataset Bank Personal Loan From Kaggle"
      ],
      "metadata": {
        "id": "EyCvNvxCwYyn"
      }
    },
    {
      "cell_type": "code",
      "source": [
        "!pip install -q kaggle"
      ],
      "metadata": {
        "id": "jEB7IkR4wfKf"
      },
      "execution_count": null,
      "outputs": []
    },
    {
      "cell_type": "code",
      "source": [
        "from google.colab import files\n",
        "\n",
        "uploaded = files.upload()\n",
        "\n",
        "for fn in uploaded.keys():\n",
        "  print('User uploaded file \"{name}\" with length {length} bytes'.format(\n",
        "      name=fn, length=len(uploaded[fn])))\n",
        "\n",
        "# Then move kaggle.json into the folder where the API expects to find it.\n",
        "!mkdir -p ~/.kaggle/ && mv kaggle.json ~/.kaggle/ && chmod 600 ~/.kaggle/kaggle.json"
      ],
      "metadata": {
        "colab": {
          "base_uri": "https://localhost:8080/",
          "height": 90
        },
        "id": "MHnmJuLIwgjI",
        "outputId": "0a8d4189-3956-444b-a263-f68c8a72b8d6"
      },
      "execution_count": null,
      "outputs": [
        {
          "output_type": "display_data",
          "data": {
            "text/plain": [
              "<IPython.core.display.HTML object>"
            ],
            "text/html": [
              "\n",
              "     <input type=\"file\" id=\"files-879a3347-79e9-441d-ab22-d24604b238cd\" name=\"files[]\" multiple disabled\n",
              "        style=\"border:none\" />\n",
              "     <output id=\"result-879a3347-79e9-441d-ab22-d24604b238cd\">\n",
              "      Upload widget is only available when the cell has been executed in the\n",
              "      current browser session. Please rerun this cell to enable.\n",
              "      </output>\n",
              "      <script>// Copyright 2017 Google LLC\n",
              "//\n",
              "// Licensed under the Apache License, Version 2.0 (the \"License\");\n",
              "// you may not use this file except in compliance with the License.\n",
              "// You may obtain a copy of the License at\n",
              "//\n",
              "//      http://www.apache.org/licenses/LICENSE-2.0\n",
              "//\n",
              "// Unless required by applicable law or agreed to in writing, software\n",
              "// distributed under the License is distributed on an \"AS IS\" BASIS,\n",
              "// WITHOUT WARRANTIES OR CONDITIONS OF ANY KIND, either express or implied.\n",
              "// See the License for the specific language governing permissions and\n",
              "// limitations under the License.\n",
              "\n",
              "/**\n",
              " * @fileoverview Helpers for google.colab Python module.\n",
              " */\n",
              "(function(scope) {\n",
              "function span(text, styleAttributes = {}) {\n",
              "  const element = document.createElement('span');\n",
              "  element.textContent = text;\n",
              "  for (const key of Object.keys(styleAttributes)) {\n",
              "    element.style[key] = styleAttributes[key];\n",
              "  }\n",
              "  return element;\n",
              "}\n",
              "\n",
              "// Max number of bytes which will be uploaded at a time.\n",
              "const MAX_PAYLOAD_SIZE = 100 * 1024;\n",
              "\n",
              "function _uploadFiles(inputId, outputId) {\n",
              "  const steps = uploadFilesStep(inputId, outputId);\n",
              "  const outputElement = document.getElementById(outputId);\n",
              "  // Cache steps on the outputElement to make it available for the next call\n",
              "  // to uploadFilesContinue from Python.\n",
              "  outputElement.steps = steps;\n",
              "\n",
              "  return _uploadFilesContinue(outputId);\n",
              "}\n",
              "\n",
              "// This is roughly an async generator (not supported in the browser yet),\n",
              "// where there are multiple asynchronous steps and the Python side is going\n",
              "// to poll for completion of each step.\n",
              "// This uses a Promise to block the python side on completion of each step,\n",
              "// then passes the result of the previous step as the input to the next step.\n",
              "function _uploadFilesContinue(outputId) {\n",
              "  const outputElement = document.getElementById(outputId);\n",
              "  const steps = outputElement.steps;\n",
              "\n",
              "  const next = steps.next(outputElement.lastPromiseValue);\n",
              "  return Promise.resolve(next.value.promise).then((value) => {\n",
              "    // Cache the last promise value to make it available to the next\n",
              "    // step of the generator.\n",
              "    outputElement.lastPromiseValue = value;\n",
              "    return next.value.response;\n",
              "  });\n",
              "}\n",
              "\n",
              "/**\n",
              " * Generator function which is called between each async step of the upload\n",
              " * process.\n",
              " * @param {string} inputId Element ID of the input file picker element.\n",
              " * @param {string} outputId Element ID of the output display.\n",
              " * @return {!Iterable<!Object>} Iterable of next steps.\n",
              " */\n",
              "function* uploadFilesStep(inputId, outputId) {\n",
              "  const inputElement = document.getElementById(inputId);\n",
              "  inputElement.disabled = false;\n",
              "\n",
              "  const outputElement = document.getElementById(outputId);\n",
              "  outputElement.innerHTML = '';\n",
              "\n",
              "  const pickedPromise = new Promise((resolve) => {\n",
              "    inputElement.addEventListener('change', (e) => {\n",
              "      resolve(e.target.files);\n",
              "    });\n",
              "  });\n",
              "\n",
              "  const cancel = document.createElement('button');\n",
              "  inputElement.parentElement.appendChild(cancel);\n",
              "  cancel.textContent = 'Cancel upload';\n",
              "  const cancelPromise = new Promise((resolve) => {\n",
              "    cancel.onclick = () => {\n",
              "      resolve(null);\n",
              "    };\n",
              "  });\n",
              "\n",
              "  // Wait for the user to pick the files.\n",
              "  const files = yield {\n",
              "    promise: Promise.race([pickedPromise, cancelPromise]),\n",
              "    response: {\n",
              "      action: 'starting',\n",
              "    }\n",
              "  };\n",
              "\n",
              "  cancel.remove();\n",
              "\n",
              "  // Disable the input element since further picks are not allowed.\n",
              "  inputElement.disabled = true;\n",
              "\n",
              "  if (!files) {\n",
              "    return {\n",
              "      response: {\n",
              "        action: 'complete',\n",
              "      }\n",
              "    };\n",
              "  }\n",
              "\n",
              "  for (const file of files) {\n",
              "    const li = document.createElement('li');\n",
              "    li.append(span(file.name, {fontWeight: 'bold'}));\n",
              "    li.append(span(\n",
              "        `(${file.type || 'n/a'}) - ${file.size} bytes, ` +\n",
              "        `last modified: ${\n",
              "            file.lastModifiedDate ? file.lastModifiedDate.toLocaleDateString() :\n",
              "                                    'n/a'} - `));\n",
              "    const percent = span('0% done');\n",
              "    li.appendChild(percent);\n",
              "\n",
              "    outputElement.appendChild(li);\n",
              "\n",
              "    const fileDataPromise = new Promise((resolve) => {\n",
              "      const reader = new FileReader();\n",
              "      reader.onload = (e) => {\n",
              "        resolve(e.target.result);\n",
              "      };\n",
              "      reader.readAsArrayBuffer(file);\n",
              "    });\n",
              "    // Wait for the data to be ready.\n",
              "    let fileData = yield {\n",
              "      promise: fileDataPromise,\n",
              "      response: {\n",
              "        action: 'continue',\n",
              "      }\n",
              "    };\n",
              "\n",
              "    // Use a chunked sending to avoid message size limits. See b/62115660.\n",
              "    let position = 0;\n",
              "    do {\n",
              "      const length = Math.min(fileData.byteLength - position, MAX_PAYLOAD_SIZE);\n",
              "      const chunk = new Uint8Array(fileData, position, length);\n",
              "      position += length;\n",
              "\n",
              "      const base64 = btoa(String.fromCharCode.apply(null, chunk));\n",
              "      yield {\n",
              "        response: {\n",
              "          action: 'append',\n",
              "          file: file.name,\n",
              "          data: base64,\n",
              "        },\n",
              "      };\n",
              "\n",
              "      let percentDone = fileData.byteLength === 0 ?\n",
              "          100 :\n",
              "          Math.round((position / fileData.byteLength) * 100);\n",
              "      percent.textContent = `${percentDone}% done`;\n",
              "\n",
              "    } while (position < fileData.byteLength);\n",
              "  }\n",
              "\n",
              "  // All done.\n",
              "  yield {\n",
              "    response: {\n",
              "      action: 'complete',\n",
              "    }\n",
              "  };\n",
              "}\n",
              "\n",
              "scope.google = scope.google || {};\n",
              "scope.google.colab = scope.google.colab || {};\n",
              "scope.google.colab._files = {\n",
              "  _uploadFiles,\n",
              "  _uploadFilesContinue,\n",
              "};\n",
              "})(self);\n",
              "</script> "
            ]
          },
          "metadata": {}
        },
        {
          "output_type": "stream",
          "name": "stdout",
          "text": [
            "Saving kaggle.json to kaggle.json\n",
            "User uploaded file \"kaggle.json\" with length 74 bytes\n"
          ]
        }
      ]
    },
    {
      "cell_type": "code",
      "source": [
        "!kaggle datasets download \"mahnazarjmand/bank-personal-loan\""
      ],
      "metadata": {
        "colab": {
          "base_uri": "https://localhost:8080/"
        },
        "id": "JRBJrc74wlng",
        "outputId": "62f09c3e-d1f6-4759-c323-1fa49fa781e5"
      },
      "execution_count": null,
      "outputs": [
        {
          "output_type": "stream",
          "name": "stdout",
          "text": [
            "Dataset URL: https://www.kaggle.com/datasets/mahnazarjmand/bank-personal-loan\n",
            "License(s): unknown\n",
            "Downloading bank-personal-loan.zip to /content\n",
            "  0% 0.00/60.6k [00:00<?, ?B/s]\n",
            "100% 60.6k/60.6k [00:00<00:00, 5.10MB/s]\n"
          ]
        }
      ]
    },
    {
      "cell_type": "code",
      "source": [
        "!unzip bank-personal-loan.zip"
      ],
      "metadata": {
        "colab": {
          "base_uri": "https://localhost:8080/"
        },
        "id": "LWKrxpZWxLCf",
        "outputId": "4c929387-5c06-4e5b-ce68-f86b887e7f61"
      },
      "execution_count": null,
      "outputs": [
        {
          "output_type": "stream",
          "name": "stdout",
          "text": [
            "Archive:  bank-personal-loan.zip\n",
            "  inflating: Bank_Personal_Loan_Modelling(1).csv  \n"
          ]
        }
      ]
    },
    {
      "cell_type": "markdown",
      "source": [
        "## Load Dataset CSV"
      ],
      "metadata": {
        "id": "3E2CIHIbyF1_"
      }
    },
    {
      "cell_type": "code",
      "source": [
        "from pyspark.sql import functions as F"
      ],
      "metadata": {
        "id": "GcnDWtbEyeaF"
      },
      "execution_count": null,
      "outputs": []
    },
    {
      "cell_type": "code",
      "source": [
        "link = \"/content/Bank_Personal_Loan_Modelling(1).csv\""
      ],
      "metadata": {
        "id": "czZQRuHvykIR"
      },
      "execution_count": null,
      "outputs": []
    },
    {
      "cell_type": "code",
      "source": [
        "df = spark.read\\\n",
        "      .option(\"header\", True)\\\n",
        "      .option(\"delimiter\", \",\")\\\n",
        "      .csv(link)"
      ],
      "metadata": {
        "id": "X9junzBfyoSp"
      },
      "execution_count": null,
      "outputs": []
    },
    {
      "cell_type": "code",
      "source": [
        "print(f\"{df.dtypes}\\n\\nTotal rows: {df.count()} \\nTotal columns: {len(df.columns)}\")"
      ],
      "metadata": {
        "colab": {
          "base_uri": "https://localhost:8080/"
        },
        "id": "sDLtH_lQyuwa",
        "outputId": "72377312-a0b0-4b79-d263-3b7407987ad4"
      },
      "execution_count": null,
      "outputs": [
        {
          "output_type": "stream",
          "name": "stdout",
          "text": [
            "[('ID', 'string'), ('Age', 'string'), ('Experience', 'string'), ('Income', 'string'), ('ZIP Code', 'string'), ('Family', 'string'), ('CCAvg', 'string'), ('Education', 'string'), ('Mortgage', 'string'), ('Personal Loan', 'string'), ('Securities Account', 'string'), ('CD Account', 'string'), ('Online', 'string'), ('CreditCard', 'string')]\n",
            "\n",
            "Total rows: 5000 \n",
            "Total columns: 14\n"
          ]
        }
      ]
    },
    {
      "cell_type": "markdown",
      "source": [
        "About Column Dataset :\n",
        " - ID : Customer ID\n",
        " - Age : Customer's age in completed years\n",
        " - Experience : years of professional experience\n",
        " - Income : Annual income of the customer\n",
        " - ZIP Code : Home Address ZIP code.\n",
        " - Family : Family size of the customer\n",
        " - CCAvg : Avg. spending on credit cards per month\n",
        " - Education : Education Level.\n",
        "    - Undergrad\n",
        "    - Graduate\n",
        "    - Advanced/Professional\n",
        " - Mortgage : Value of house mortgage if any.\n",
        " - Personal Loan : Did this customer accept the personal loan offered in the last campaign?\n",
        " - Securities Account : Does the customer have a securities account with the bank?\n",
        " - CD Account : Does the customer have a certificate of deposit (CD) account with the bank?\n",
        " - Online : Does the customer use internet banking facilities?\n",
        " - CreditCard: Does the customer use credit card ?\n",
        "\n"
      ],
      "metadata": {
        "id": "Krh6qL2k15da"
      }
    },
    {
      "cell_type": "markdown",
      "source": [
        "## Transform Data 01 : Rename Column & Change Data Types"
      ],
      "metadata": {
        "id": "zsTwzT4j5jrt"
      }
    },
    {
      "cell_type": "markdown",
      "source": [
        "Rename Column :\n",
        "\n",
        "- Personal Loan to PersonalLoan.\n",
        "- Securities Account to SecuritiesAccount.\n",
        "- CD Account to CDAccount.\n",
        "- ZIP Code to ZIPCode"
      ],
      "metadata": {
        "id": "2gDFuqsrSxKA"
      }
    },
    {
      "cell_type": "code",
      "source": [
        "df = df.withColumnRenamed(\"Personal Loan\",\"PersonalLoan\") \\\n",
        "      .withColumnRenamed(\"Securities Account\", \"SecuritiesAccount\") \\\n",
        "      .withColumnRenamed(\"CD Account\", \"CDAccount\") \\\n",
        "      .withColumnRenamed(\"ZIP Code\",\"ZIPCode\")"
      ],
      "metadata": {
        "id": "-cYPZW5Gk88X"
      },
      "execution_count": null,
      "outputs": []
    },
    {
      "cell_type": "markdown",
      "source": [
        "Change Data Types :\n",
        "  - ID to int\n",
        "  - Age to int\n",
        "  - Experience to int\n",
        "  - Income to float\n",
        "  - ZIP Code to int\n",
        "  - Family to int\n",
        "  - CCAvg to float\n",
        "  - Education to int\n",
        "  - Mortgage to int\n",
        "  - Personal Loan to int\n",
        "  - Securities Account to int\n",
        "  - CD Account to int\n",
        "  - Online to int\n",
        "  - CreditCard to int"
      ],
      "metadata": {
        "id": "xMBHQU8v7tQH"
      }
    },
    {
      "cell_type": "code",
      "source": [
        "dataTypes = {\n",
        "    'int' : ['ID','Age','Experience','ZIPCode', 'Family', 'Education', 'Mortgage', 'PersonalLoan', 'SecuritiesAccount', 'CDAccount', 'Online', 'CreditCard'],\n",
        "    'float' : ['Income', 'CCAvg']\n",
        "}\n",
        "\n",
        "def changeData(data):\n",
        "  for (k, v) in dataTypes.items():\n",
        "    for c in v:\n",
        "      if c in data.columns:\n",
        "        data = data.withColumn(c, data[c].cast(k))\n",
        "  return data\n",
        "\n",
        "df = changeData(df)"
      ],
      "metadata": {
        "id": "HaSQvRJu5qU8"
      },
      "execution_count": null,
      "outputs": []
    },
    {
      "cell_type": "code",
      "source": [
        "df.dtypes"
      ],
      "metadata": {
        "colab": {
          "base_uri": "https://localhost:8080/"
        },
        "id": "KenYuZHoQ9vD",
        "outputId": "8109b3c4-b75a-4c66-874b-7d44640a1ec8"
      },
      "execution_count": null,
      "outputs": [
        {
          "output_type": "execute_result",
          "data": {
            "text/plain": [
              "[('ID', 'int'),\n",
              " ('Age', 'int'),\n",
              " ('Experience', 'int'),\n",
              " ('Income', 'float'),\n",
              " ('ZIPCode', 'int'),\n",
              " ('Family', 'int'),\n",
              " ('CCAvg', 'float'),\n",
              " ('Education', 'int'),\n",
              " ('Mortgage', 'int'),\n",
              " ('PersonalLoan', 'int'),\n",
              " ('SecuritiesAccount', 'int'),\n",
              " ('CDAccount', 'int'),\n",
              " ('Online', 'int'),\n",
              " ('CreditCard', 'int')]"
            ]
          },
          "metadata": {},
          "execution_count": 14
        }
      ]
    },
    {
      "cell_type": "markdown",
      "source": [
        "## Transform Data 02 : Add Column County based on ZIP Code"
      ],
      "metadata": {
        "id": "PaMZnAbbROId"
      }
    },
    {
      "cell_type": "code",
      "source": [
        "!pip install -q pgeocode"
      ],
      "metadata": {
        "id": "xC5djB5gRRJP"
      },
      "execution_count": null,
      "outputs": []
    },
    {
      "cell_type": "code",
      "source": [
        "import pgeocode\n",
        "\n",
        "nomi = pgeocode.Nominatim('us')\n",
        "\n",
        "def getCountyInfo(zipcode):\n",
        "    location = nomi.query_postal_code(zipcode)\n",
        "    if location is not None:\n",
        "        return location.county_name\n",
        "    else:\n",
        "        return None\n",
        "\n",
        "get_county_info_udf = F.udf(getCountyInfo, F.StringType())\n",
        "df = df.withColumn(\"County\", get_county_info_udf(df[\"ZIPCode\"]))"
      ],
      "metadata": {
        "id": "a_p1s3ymSWFU"
      },
      "execution_count": null,
      "outputs": []
    },
    {
      "cell_type": "code",
      "source": [
        "df.show(3)"
      ],
      "metadata": {
        "colab": {
          "base_uri": "https://localhost:8080/"
        },
        "id": "n3wUzjA7a5J6",
        "outputId": "76ef6db8-06df-45f4-b54a-716efc4baf7e"
      },
      "execution_count": null,
      "outputs": [
        {
          "output_type": "stream",
          "name": "stdout",
          "text": [
            "+---+---+----------+------+-------+------+-----+---------+--------+------------+-----------------+---------+------+----------+-----------+\n",
            "| ID|Age|Experience|Income|ZIPCode|Family|CCAvg|Education|Mortgage|PersonalLoan|SecuritiesAccount|CDAccount|Online|CreditCard|     County|\n",
            "+---+---+----------+------+-------+------+-----+---------+--------+------------+-----------------+---------+------+----------+-----------+\n",
            "|  1| 25|         1|  49.0|  91107|     4|  1.6|        1|       0|           0|                1|        0|     0|         0|Los Angeles|\n",
            "|  2| 45|        19|  34.0|  90089|     3|  1.5|        1|       0|           0|                1|        0|     0|         0|Los Angeles|\n",
            "|  3| 39|        15|  11.0|  94720|     1|  1.0|        1|       0|           0|                0|        0|     0|         0|    Alameda|\n",
            "+---+---+----------+------+-------+------+-----+---------+--------+------------+-----------------+---------+------+----------+-----------+\n",
            "only showing top 3 rows\n",
            "\n"
          ]
        }
      ]
    },
    {
      "cell_type": "markdown",
      "source": [
        "## Transform Data 03 : Fix Data if There is a **Nulls**, **Duplicates** and **Minus Values**"
      ],
      "metadata": {
        "id": "2WBqwuX00CFg"
      }
    },
    {
      "cell_type": "code",
      "source": [
        "#Check values if there is nulls\n",
        "null_counts = [\n",
        "    F.count(F.when(F.isnan(c) | F.col(c).isNull(), c)).alias(c)\n",
        "    for c in df.columns\n",
        "]\n",
        "#Check values if there is duplicate\n",
        "duplicate_rows = df.groupBy(df.columns) \\\n",
        "                   .count() \\\n",
        "                   .filter(F.col(\"count\") > 1)"
      ],
      "metadata": {
        "id": "M1cedrYS0A7s"
      },
      "execution_count": null,
      "outputs": []
    },
    {
      "cell_type": "code",
      "source": [
        "duplicate_rows.show()"
      ],
      "metadata": {
        "colab": {
          "base_uri": "https://localhost:8080/"
        },
        "id": "ud5hH99D_QSs",
        "outputId": "54ad1598-89a8-4d4e-ac21-0ed93975fab6"
      },
      "execution_count": null,
      "outputs": [
        {
          "output_type": "stream",
          "name": "stdout",
          "text": [
            "+---+---+----------+------+-------+------+-----+---------+--------+------------+-----------------+---------+------+----------+------+-----+\n",
            "| ID|Age|Experience|Income|ZIPCode|Family|CCAvg|Education|Mortgage|PersonalLoan|SecuritiesAccount|CDAccount|Online|CreditCard|County|count|\n",
            "+---+---+----------+------+-------+------+-----+---------+--------+------------+-----------------+---------+------+----------+------+-----+\n",
            "+---+---+----------+------+-------+------+-----+---------+--------+------------+-----------------+---------+------+----------+------+-----+\n",
            "\n"
          ]
        }
      ]
    },
    {
      "cell_type": "markdown",
      "source": [
        "Checking Nulls"
      ],
      "metadata": {
        "id": "--fcd6rCXbgr"
      }
    },
    {
      "cell_type": "code",
      "source": [
        "df.select(null_counts).show()"
      ],
      "metadata": {
        "colab": {
          "base_uri": "https://localhost:8080/"
        },
        "id": "QM2yoowu3Ua0",
        "outputId": "fc9ece9a-6ef7-4882-b1a1-c3034d7c2576"
      },
      "execution_count": null,
      "outputs": [
        {
          "output_type": "stream",
          "name": "stdout",
          "text": [
            "+---+---+----------+------+-------+------+-----+---------+--------+------------+-----------------+---------+------+----------+------+\n",
            "| ID|Age|Experience|Income|ZIPCode|Family|CCAvg|Education|Mortgage|PersonalLoan|SecuritiesAccount|CDAccount|Online|CreditCard|County|\n",
            "+---+---+----------+------+-------+------+-----+---------+--------+------------+-----------------+---------+------+----------+------+\n",
            "|  0|  0|         0|     0|      0|     0|    0|        0|       0|           0|                0|        0|     0|         0|    41|\n",
            "+---+---+----------+------+-------+------+-----+---------+--------+------------+-----------------+---------+------+----------+------+\n",
            "\n"
          ]
        }
      ]
    },
    {
      "cell_type": "code",
      "source": [
        "#Create Temporary SQL\n",
        "nullValues = df.createOrReplaceTempView(\"nullValues\")"
      ],
      "metadata": {
        "id": "2bUbeY-BPIE-"
      },
      "execution_count": null,
      "outputs": []
    },
    {
      "cell_type": "code",
      "source": [
        "query = \"\"\"\n",
        "SELECT ZIPCODE, COUNT (COUNTY) AS TotalNull\n",
        "FROM nullValues\n",
        "WHERE COUNTY IS NULL OR County = 'NaN'\n",
        "GROUP BY ZIPCode\n",
        "ORDER BY ZIPCODE ASC\n",
        "\"\"\"\n",
        "spark.sql(query)"
      ],
      "metadata": {
        "colab": {
          "base_uri": "https://localhost:8080/",
          "height": 161
        },
        "id": "DEXgXSzsPSth",
        "outputId": "9ba76737-f9bd-4741-8a00-6c4ba245ea22"
      },
      "execution_count": null,
      "outputs": [
        {
          "output_type": "execute_result",
          "data": {
            "text/plain": [
              "+-------+---------+\n",
              "|ZIPCODE|TotalNull|\n",
              "+-------+---------+\n",
              "|   9307|        1|\n",
              "|  92634|        5|\n",
              "|  92709|        7|\n",
              "|  92717|       22|\n",
              "|  96651|        6|\n",
              "+-------+---------+"
            ],
            "text/html": [
              "<table border='1'>\n",
              "<tr><th>ZIPCODE</th><th>TotalNull</th></tr>\n",
              "<tr><td>9307</td><td>1</td></tr>\n",
              "<tr><td>92634</td><td>5</td></tr>\n",
              "<tr><td>92709</td><td>7</td></tr>\n",
              "<tr><td>92717</td><td>22</td></tr>\n",
              "<tr><td>96651</td><td>6</td></tr>\n",
              "</table>\n"
            ]
          },
          "metadata": {},
          "execution_count": 22
        }
      ]
    },
    {
      "cell_type": "markdown",
      "source": [
        "Fix Nulls"
      ],
      "metadata": {
        "id": "bAEnsaxvXihI"
      }
    },
    {
      "cell_type": "code",
      "source": [
        "CountyDict = {'9307' : 'Armed Forces',\n",
        "              '92634': 'Orange',\n",
        "              '92709': 'Orange',\n",
        "              '92717': 'Orange',\n",
        "              '96651': 'Armed Forces'}"
      ],
      "metadata": {
        "id": "aqNgLB42Nv3t"
      },
      "execution_count": null,
      "outputs": []
    },
    {
      "cell_type": "code",
      "source": [
        "from functools import reduce\n",
        "\n",
        "# Replace the County Nulls based on ZIPCode\n",
        "conditions = reduce(\n",
        "    lambda acc, key: acc.when(F.col(\"ZIPCode\") == key, F.lit(CountyDict[key])),\n",
        "    CountyDict,\n",
        "    F.when(F.col(\"ZIPCode\") == list(CountyDict.keys())[0], F.lit(CountyDict[list(CountyDict.keys())[0]]))\n",
        ")\n",
        "\n",
        "df = df.withColumn(\"County\", conditions.otherwise(df[\"County\"]))"
      ],
      "metadata": {
        "id": "4qkrbbuiQtpN"
      },
      "execution_count": null,
      "outputs": []
    },
    {
      "cell_type": "code",
      "source": [
        "df.select(null_counts).show()"
      ],
      "metadata": {
        "colab": {
          "base_uri": "https://localhost:8080/"
        },
        "id": "7VE0cQwSXXRO",
        "outputId": "4e0ea857-a495-4535-daf7-859c6fe06153"
      },
      "execution_count": null,
      "outputs": [
        {
          "output_type": "stream",
          "name": "stdout",
          "text": [
            "+---+---+----------+------+-------+------+-----+---------+--------+------------+-----------------+---------+------+----------+------+\n",
            "| ID|Age|Experience|Income|ZIPCode|Family|CCAvg|Education|Mortgage|PersonalLoan|SecuritiesAccount|CDAccount|Online|CreditCard|County|\n",
            "+---+---+----------+------+-------+------+-----+---------+--------+------------+-----------------+---------+------+----------+------+\n",
            "|  0|  0|         0|     0|      0|     0|    0|        0|       0|           0|                0|        0|     0|         0|     0|\n",
            "+---+---+----------+------+-------+------+-----+---------+--------+------------+-----------------+---------+------+----------+------+\n",
            "\n"
          ]
        }
      ]
    },
    {
      "cell_type": "markdown",
      "source": [
        "Fix Data Minus Values"
      ],
      "metadata": {
        "id": "S3soA4Qk7vvH"
      }
    },
    {
      "cell_type": "code",
      "source": [
        "minusValues = df.createOrReplaceTempView(\"minusValues\")"
      ],
      "metadata": {
        "id": "kZwiX6lpZeP6"
      },
      "execution_count": null,
      "outputs": []
    },
    {
      "cell_type": "code",
      "source": [
        "from pyspark.sql import functions as F\n",
        "\n",
        "#Check Values in Column if there is a minus Values\n",
        "def getNegativeValues(df):\n",
        "    queries = []\n",
        "    for column in df:\n",
        "        query = f\"\"\"\n",
        "        SELECT '{column}' AS ColumnName, COUNT(*) AS NegativeCount\n",
        "        FROM minusValues\n",
        "        WHERE {column} < 0\n",
        "        \"\"\"\n",
        "        queries.append(query)\n",
        "    return \"\\nUNION ALL\\n\".join(queries)\n",
        "\n",
        "columns = [\"Age\", \"Experience\", \"Income\", \"ZIPCode\",\"Family\",\"CCAvg\",\"Education\",\"PersonalLoan\",\"SecuritiesAccount\",\"CDAccount\",\"Online\",\"CreditCard\",\"Mortgage\"]\n",
        "\n",
        "sql_query = getNegativeValues(columns)"
      ],
      "metadata": {
        "id": "Ul1Lmh6dXDY7"
      },
      "execution_count": null,
      "outputs": []
    },
    {
      "cell_type": "code",
      "source": [
        "df_minusValues = spark.sql(sql_query)\n",
        "df_minusValues.show()"
      ],
      "metadata": {
        "colab": {
          "base_uri": "https://localhost:8080/"
        },
        "id": "70NlUUH5ZLKc",
        "outputId": "001021c3-4115-4084-8ff3-386e91315e73"
      },
      "execution_count": null,
      "outputs": [
        {
          "output_type": "stream",
          "name": "stdout",
          "text": [
            "+-----------------+-------------+\n",
            "|       ColumnName|NegativeCount|\n",
            "+-----------------+-------------+\n",
            "|              Age|            0|\n",
            "|       Experience|           52|\n",
            "|           Income|            0|\n",
            "|          ZIPCode|            0|\n",
            "|           Family|            0|\n",
            "|            CCAvg|            0|\n",
            "|        Education|            0|\n",
            "|     PersonalLoan|            0|\n",
            "|SecuritiesAccount|            0|\n",
            "|        CDAccount|            0|\n",
            "|           Online|            0|\n",
            "|       CreditCard|            0|\n",
            "|         Mortgage|            0|\n",
            "+-----------------+-------------+\n",
            "\n"
          ]
        }
      ]
    },
    {
      "cell_type": "code",
      "source": [
        "from pyspark.sql.types import IntegerType, FloatType, DoubleType\n",
        "\n",
        "def replace_negative_values(df):\n",
        "    for column in df.columns:\n",
        "        if df.schema[column].dataType in [IntegerType(), FloatType(), DoubleType()]:\n",
        "            df = df.withColumn(column, F.when(F.col(column) < 0, 0).otherwise(F.col(column)))\n",
        "    return df\n",
        "\n",
        "df_fixed = replace_negative_values(df)"
      ],
      "metadata": {
        "id": "2wpMmOkCHklq"
      },
      "execution_count": null,
      "outputs": []
    },
    {
      "cell_type": "code",
      "source": [
        "df_fixed.show(3)"
      ],
      "metadata": {
        "colab": {
          "base_uri": "https://localhost:8080/"
        },
        "id": "2VahjzYHbfjc",
        "outputId": "950a20b6-1ba8-491c-e2c5-b9ff0b924a75"
      },
      "execution_count": null,
      "outputs": [
        {
          "output_type": "stream",
          "name": "stdout",
          "text": [
            "+---+---+----------+------+-------+------+-----+---------+--------+------------+-----------------+---------+------+----------+-----------+\n",
            "| ID|Age|Experience|Income|ZIPCode|Family|CCAvg|Education|Mortgage|PersonalLoan|SecuritiesAccount|CDAccount|Online|CreditCard|     County|\n",
            "+---+---+----------+------+-------+------+-----+---------+--------+------------+-----------------+---------+------+----------+-----------+\n",
            "|  1| 25|         1|  49.0|  91107|     4|  1.6|        1|       0|           0|                1|        0|     0|         0|Los Angeles|\n",
            "|  2| 45|        19|  34.0|  90089|     3|  1.5|        1|       0|           0|                1|        0|     0|         0|Los Angeles|\n",
            "|  3| 39|        15|  11.0|  94720|     1|  1.0|        1|       0|           0|                0|        0|     0|         0|    Alameda|\n",
            "+---+---+----------+------+-------+------+-----+---------+--------+------------+-----------------+---------+------+----------+-----------+\n",
            "only showing top 3 rows\n",
            "\n"
          ]
        }
      ]
    },
    {
      "cell_type": "markdown",
      "source": [
        "## Transform Data 04 : Add Column Age_Gap & Experience_Gap"
      ],
      "metadata": {
        "id": "o73ty77kF0NU"
      }
    },
    {
      "cell_type": "code",
      "source": [
        "#Create New Column Age_Gap\n",
        "df_fixed = df_fixed.withColumn('Age_Gap',\n",
        "    F.when((df_fixed.Age >= 23) & (df_fixed.Age <= 30), '23-30')\n",
        "    .when((df_fixed.Age >= 31) & (df_fixed.Age <= 40), '31-40')\n",
        "    .when((df_fixed.Age >= 41) & (df_fixed.Age <= 50), '41-50')\n",
        "    .when((df_fixed.Age >= 51) & (df_fixed.Age <= 60), '51-60')\n",
        "    .when((df_fixed.Age >= 61) & (df_fixed.Age <= 65), '61-65')\n",
        "    .when((df_fixed.Age >= 61), '66+')\n",
        ")\n",
        "\n",
        "#Create New Column Experience_Gap\n",
        "df_fixed = df_fixed.withColumn('Experience_Gap',\n",
        "    F.when((df_fixed.Experience >= 0) & (df_fixed.Experience <= 1), '0-1')\n",
        "    .when((df_fixed.Experience >= 2) & (df_fixed.Experience <= 5), '2-5')\n",
        "    .when((df_fixed.Experience > 5) & (df_fixed.Experience <= 10), '6-10')\n",
        "    .when((df_fixed.Experience > 10) & (df_fixed.Experience <= 15), '11-15')\n",
        "    .when((df_fixed.Experience > 15) & (df_fixed.Experience <= 20), '16-20')\n",
        "    .when(df_fixed.Experience > 20, '21+')\n",
        ")"
      ],
      "metadata": {
        "id": "lzORa3AyF3z9"
      },
      "execution_count": null,
      "outputs": []
    },
    {
      "cell_type": "markdown",
      "source": [
        "## Transform Data 05 : Change Annual Income to Monthly Income"
      ],
      "metadata": {
        "id": "YjwpBmo2-dug"
      }
    },
    {
      "cell_type": "code",
      "source": [
        "#Check The Average, min and max of the income\n",
        "df_fixed.agg(\n",
        "    F.avg(F.col('income')).alias('avg_income'),\n",
        "    F.min(F.col('income')).alias('min_income'),\n",
        "    F.max(F.col('income')).alias('max_income')\n",
        ").show()"
      ],
      "metadata": {
        "colab": {
          "base_uri": "https://localhost:8080/"
        },
        "id": "JuMVNwMjc0SW",
        "outputId": "9ab889d3-d6a0-445f-bc60-7f485275c423"
      },
      "execution_count": null,
      "outputs": [
        {
          "output_type": "stream",
          "name": "stdout",
          "text": [
            "+----------+----------+----------+\n",
            "|avg_income|min_income|max_income|\n",
            "+----------+----------+----------+\n",
            "|   73.7742|       8.0|     224.0|\n",
            "+----------+----------+----------+\n",
            "\n"
          ]
        }
      ]
    },
    {
      "cell_type": "code",
      "source": [
        "#Since The Dataset Description its Annual, change the income to Monthly and the income x1000\n",
        "df_fixed = df_fixed.withColumn('Income', F.expr(\"(Income * 1000) / 12\"))\n",
        "\n",
        "df_fixed = df_fixed.withColumn('Income',F.round(df_fixed['Income'],3))"
      ],
      "metadata": {
        "id": "YyUpTKkV-p8O"
      },
      "execution_count": null,
      "outputs": []
    },
    {
      "cell_type": "code",
      "source": [
        "df_fixed.show(3)"
      ],
      "metadata": {
        "colab": {
          "base_uri": "https://localhost:8080/"
        },
        "id": "GJZVrGEGAd03",
        "outputId": "c3e791b7-a91f-484b-fa75-2f40cea514cd"
      },
      "execution_count": null,
      "outputs": [
        {
          "output_type": "stream",
          "name": "stdout",
          "text": [
            "+---+---+----------+--------+-------+------+-----+---------+--------+------------+-----------------+---------+------+----------+-----------+-------+--------------+\n",
            "| ID|Age|Experience|  Income|ZIPCode|Family|CCAvg|Education|Mortgage|PersonalLoan|SecuritiesAccount|CDAccount|Online|CreditCard|     County|Age_Gap|Experience_Gap|\n",
            "+---+---+----------+--------+-------+------+-----+---------+--------+------------+-----------------+---------+------+----------+-----------+-------+--------------+\n",
            "|  1| 25|         1|4083.333|  91107|     4|  1.6|        1|       0|           0|                1|        0|     0|         0|Los Angeles|  23-30|           0-1|\n",
            "|  2| 45|        19|2833.333|  90089|     3|  1.5|        1|       0|           0|                1|        0|     0|         0|Los Angeles|  41-50|         16-20|\n",
            "|  3| 39|        15| 916.667|  94720|     1|  1.0|        1|       0|           0|                0|        0|     0|         0|    Alameda|  31-40|         11-15|\n",
            "+---+---+----------+--------+-------+------+-----+---------+--------+------------+-----------------+---------+------+----------+-----------+-------+--------------+\n",
            "only showing top 3 rows\n",
            "\n"
          ]
        }
      ]
    },
    {
      "cell_type": "markdown",
      "source": [
        "## Transform Data 06 : Change the CCAVG x1000"
      ],
      "metadata": {
        "id": "N0pq-dkvHder"
      }
    },
    {
      "cell_type": "code",
      "source": [
        "#Check The min and max of the CCAVG\n",
        "df_fixed.agg(\n",
        "    F.min(F.col('CCAvg')).alias('min_CCAvg'),\n",
        "    F.max(F.col('CCAvg')).alias('max_CCAvg')\n",
        ").show()"
      ],
      "metadata": {
        "colab": {
          "base_uri": "https://localhost:8080/"
        },
        "id": "t4c-SdbbHfI_",
        "outputId": "23e94e57-f0ef-43ac-fb71-9f939669b63c"
      },
      "execution_count": null,
      "outputs": [
        {
          "output_type": "stream",
          "name": "stdout",
          "text": [
            "+---------+---------+\n",
            "|min_CCAvg|max_CCAvg|\n",
            "+---------+---------+\n",
            "|      0.0|     10.0|\n",
            "+---------+---------+\n",
            "\n"
          ]
        }
      ]
    },
    {
      "cell_type": "code",
      "source": [
        "#Change the CCAVG x1000, Because the CCAvg was already in monthly\n",
        "df_fixed = df_fixed.withColumn('CCAvg', F.expr(\"CCAvg * 1000 \"))\n",
        "\n",
        "df_fixed = df_fixed.withColumn('CCAvg',F.round(df_fixed['CCAvg'],2))"
      ],
      "metadata": {
        "id": "1Sn642h-IhZF"
      },
      "execution_count": null,
      "outputs": []
    },
    {
      "cell_type": "code",
      "source": [
        "df_fixed.show(3)"
      ],
      "metadata": {
        "colab": {
          "base_uri": "https://localhost:8080/"
        },
        "id": "LsH2XnigIyKu",
        "outputId": "46697803-bca3-4b72-e6d1-3098f72b873f"
      },
      "execution_count": null,
      "outputs": [
        {
          "output_type": "stream",
          "name": "stdout",
          "text": [
            "+---+---+----------+--------+-------+------+------+---------+--------+------------+-----------------+---------+------+----------+-----------+-------+--------------+\n",
            "| ID|Age|Experience|  Income|ZIPCode|Family| CCAvg|Education|Mortgage|PersonalLoan|SecuritiesAccount|CDAccount|Online|CreditCard|     County|Age_Gap|Experience_Gap|\n",
            "+---+---+----------+--------+-------+------+------+---------+--------+------------+-----------------+---------+------+----------+-----------+-------+--------------+\n",
            "|  1| 25|         1|4083.333|  91107|     4|1600.0|        1|       0|           0|                1|        0|     0|         0|Los Angeles|  23-30|           0-1|\n",
            "|  2| 45|        19|2833.333|  90089|     3|1500.0|        1|       0|           0|                1|        0|     0|         0|Los Angeles|  41-50|         16-20|\n",
            "|  3| 39|        15| 916.667|  94720|     1|1000.0|        1|       0|           0|                0|        0|     0|         0|    Alameda|  31-40|         11-15|\n",
            "+---+---+----------+--------+-------+------+------+---------+--------+------------+-----------------+---------+------+----------+-----------+-------+--------------+\n",
            "only showing top 3 rows\n",
            "\n"
          ]
        }
      ]
    },
    {
      "cell_type": "markdown",
      "source": [
        "## Visualize Data"
      ],
      "metadata": {
        "id": "PMVaaGEq86nR"
      }
    },
    {
      "cell_type": "code",
      "source": [
        "import seaborn as sns\n",
        "import matplotlib.pyplot as plt"
      ],
      "metadata": {
        "id": "tLzY6AGBUXVT"
      },
      "execution_count": null,
      "outputs": []
    },
    {
      "cell_type": "markdown",
      "source": [
        "What percentage of loan applications submitted to the bank are by customers of different age groups?"
      ],
      "metadata": {
        "id": "T42ozvxPCUpS"
      }
    },
    {
      "cell_type": "code",
      "source": [
        "bankLoan = df_fixed.createOrReplaceTempView(\"bankLoan\")"
      ],
      "metadata": {
        "id": "-SF-i6mwSLtg"
      },
      "execution_count": null,
      "outputs": []
    },
    {
      "cell_type": "code",
      "source": [
        "query = \"\"\"\n",
        "SELECT Age_Gap, COUNT (Age) AS totalCustomer\n",
        "FROM bankLoan\n",
        "GROUP BY Age_Gap ORDER BY Age_Gap ASC\n",
        "\"\"\""
      ],
      "metadata": {
        "id": "lT-lygkLRZsB"
      },
      "execution_count": null,
      "outputs": []
    },
    {
      "cell_type": "code",
      "source": [
        "df_age = spark.sql(query).toPandas()"
      ],
      "metadata": {
        "id": "WFmydMN2K0jj"
      },
      "execution_count": null,
      "outputs": []
    },
    {
      "cell_type": "code",
      "source": [
        "fig = plt.pie( df_age['totalCustomer'], autopct='%1.1f%%', startangle=140)\n",
        "labels = [f'{l} years, \\n{s} Customers' for l, s in zip(df_age['Age_Gap'], df_age['totalCustomer'])]\n",
        "plt.legend(bbox_to_anchor=(1, 0.9), loc='upper left', labels=labels)\n",
        "plt.title('Customer Age Range Who Wants to Apply Bank Loan', x=0.68)\n",
        "plt.tight_layout()\n",
        "plt.show()\n"
      ],
      "metadata": {
        "colab": {
          "base_uri": "https://localhost:8080/",
          "height": 487
        },
        "id": "TcuyKrm6UQfG",
        "outputId": "99ae35fd-882a-43b3-c1d5-37f0398160c2"
      },
      "execution_count": null,
      "outputs": [
        {
          "output_type": "display_data",
          "data": {
            "text/plain": [
              "<Figure size 640x480 with 1 Axes>"
            ],
            "image/png": "[encoded data removed]"
          },
          "metadata": {}
        }
      ]
    },
    {
      "cell_type": "markdown",
      "source": [
        "How many customers reside in the specified counties?"
      ],
      "metadata": {
        "id": "wLboWfVLIpbm"
      }
    },
    {
      "cell_type": "code",
      "source": [
        "query = \"\"\"\n",
        "SELECT County, COUNT (County) AS totalCustomer\n",
        "FROM bankLoan\n",
        "WHERE County IN ('Los Angeles', 'Orange', 'San Francisco', 'Santa Clara', 'San Diego', 'Alameda', 'Sacramento', 'San Mateo', 'Contra Costa', 'Marin', 'Riverside')\n",
        "GROUP BY County\n",
        "\"\"\"\n",
        "\n",
        "spark.sql(query)"
      ],
      "metadata": {
        "colab": {
          "base_uri": "https://localhost:8080/",
          "height": 278
        },
        "id": "urT0eKccIpKp",
        "outputId": "9690eb70-5809-46bc-c8aa-2b4cc35e5ffd"
      },
      "execution_count": null,
      "outputs": [
        {
          "output_type": "execute_result",
          "data": {
            "text/plain": [
              "+------------+-------------+\n",
              "|      County|totalCustomer|\n",
              "+------------+-------------+\n",
              "|       Marin|           54|\n",
              "|      Orange|          366|\n",
              "| Los Angeles|         1095|\n",
              "|  Sacramento|          184|\n",
              "|   San Diego|          568|\n",
              "| Santa Clara|          563|\n",
              "|Contra Costa|           85|\n",
              "|   San Mateo|          204|\n",
              "|   Riverside|           56|\n",
              "|     Alameda|          500|\n",
              "+------------+-------------+"
            ],
            "text/html": [
              "<table border='1'>\n",
              "<tr><th>County</th><th>totalCustomer</th></tr>\n",
              "<tr><td>Marin</td><td>54</td></tr>\n",
              "<tr><td>Orange</td><td>366</td></tr>\n",
              "<tr><td>Los Angeles</td><td>1095</td></tr>\n",
              "<tr><td>Sacramento</td><td>184</td></tr>\n",
              "<tr><td>San Diego</td><td>568</td></tr>\n",
              "<tr><td>Santa Clara</td><td>563</td></tr>\n",
              "<tr><td>Contra Costa</td><td>85</td></tr>\n",
              "<tr><td>San Mateo</td><td>204</td></tr>\n",
              "<tr><td>Riverside</td><td>56</td></tr>\n",
              "<tr><td>Alameda</td><td>500</td></tr>\n",
              "</table>\n"
            ]
          },
          "metadata": {},
          "execution_count": 40
        }
      ]
    },
    {
      "cell_type": "code",
      "source": [
        "df_lived = spark.sql(query).toPandas()"
      ],
      "metadata": {
        "id": "bIwsaTflJfJa"
      },
      "execution_count": null,
      "outputs": []
    },
    {
      "cell_type": "code",
      "source": [
        "fig, ax = plt.subplots()\n",
        "\n",
        "ax.barh(df_lived['County'], df_lived['totalCustomer'], color='dodgerblue')\n",
        "\n",
        "ax.set_xlabel(\"Customer\")\n",
        "ax.set_ylabel(\"County\")\n",
        "ax.set_title(\"Customer Lived in\")\n",
        "ax.grid(True, axis='x', linestyle=\"--\")\n",
        "\n",
        "plt.show()"
      ],
      "metadata": {
        "colab": {
          "base_uri": "https://localhost:8080/",
          "height": 472
        },
        "id": "uv47qEIzMNiO",
        "outputId": "b8e006c7-a360-4897-a838-ecbddd9e1929"
      },
      "execution_count": null,
      "outputs": [
        {
          "output_type": "display_data",
          "data": {
            "text/plain": [
              "<Figure size 640x480 with 1 Axes>"
            ],
            "image/png": "[encoded data removed]"
          },
          "metadata": {}
        }
      ]
    },
    {
      "cell_type": "markdown",
      "source": [
        "How many customers with professional experience of more than 2 years have applied for loans and reside in the county as per the following requirement?"
      ],
      "metadata": {
        "id": "llHO7OIjW7VL"
      }
    },
    {
      "cell_type": "code",
      "source": [
        "query = \"\"\"\n",
        "SELECT Age_Gap, Experience_Gap, COUNT (*) AS totalCustomer\n",
        "FROM bankLoan\n",
        "WHERE County IN ('Los Angeles', 'Orange', 'San Francisco', 'Santa Clara', 'San Diego', 'Alameda', 'Sacramento', 'San Mateo', 'Contra Costa', 'Marin', 'Riverside')\n",
        "AND Experience >=2\n",
        "AND Age BETWEEN 23 AND 65\n",
        "GROUP BY Age_Gap, Experience_Gap ORDER BY Age_Gap ASC\n",
        "\"\"\"\n",
        "\n",
        "spark.sql(query)"
      ],
      "metadata": {
        "colab": {
          "base_uri": "https://localhost:8080/",
          "height": 301
        },
        "id": "AkMuRTNoRoaF",
        "outputId": "08179714-3215-446f-f628-6cff986da5ac"
      },
      "execution_count": null,
      "outputs": [
        {
          "output_type": "execute_result",
          "data": {
            "text/plain": [
              "+-------+--------------+-------------+\n",
              "|Age_Gap|Experience_Gap|totalCustomer|\n",
              "+-------+--------------+-------------+\n",
              "|  23-30|          6-10|           36|\n",
              "|  23-30|           2-5|          294|\n",
              "|  31-40|         11-15|          382|\n",
              "|  31-40|           2-5|           54|\n",
              "|  31-40|          6-10|          424|\n",
              "|  31-40|         16-20|           34|\n",
              "|  41-50|         11-15|           40|\n",
              "|  41-50|         16-20|          469|\n",
              "|  41-50|           21+|          437|\n",
              "|  51-60|           21+|          962|\n",
              "|  61-65|           21+|          375|\n",
              "+-------+--------------+-------------+"
            ],
            "text/html": [
              "<table border='1'>\n",
              "<tr><th>Age_Gap</th><th>Experience_Gap</th><th>totalCustomer</th></tr>\n",
              "<tr><td>23-30</td><td>6-10</td><td>36</td></tr>\n",
              "<tr><td>23-30</td><td>2-5</td><td>294</td></tr>\n",
              "<tr><td>31-40</td><td>11-15</td><td>382</td></tr>\n",
              "<tr><td>31-40</td><td>2-5</td><td>54</td></tr>\n",
              "<tr><td>31-40</td><td>6-10</td><td>424</td></tr>\n",
              "<tr><td>31-40</td><td>16-20</td><td>34</td></tr>\n",
              "<tr><td>41-50</td><td>11-15</td><td>40</td></tr>\n",
              "<tr><td>41-50</td><td>16-20</td><td>469</td></tr>\n",
              "<tr><td>41-50</td><td>21+</td><td>437</td></tr>\n",
              "<tr><td>51-60</td><td>21+</td><td>962</td></tr>\n",
              "<tr><td>61-65</td><td>21+</td><td>375</td></tr>\n",
              "</table>\n"
            ]
          },
          "metadata": {},
          "execution_count": 43
        }
      ]
    },
    {
      "cell_type": "code",
      "source": [
        "df_exp = spark.sql(query).toPandas()"
      ],
      "metadata": {
        "id": "UnL8EIweXkbG"
      },
      "execution_count": null,
      "outputs": []
    },
    {
      "cell_type": "code",
      "source": [
        "# Extract unique Age_Gap values\n",
        "uniqueAgeRange = df_exp['Age_Gap'].unique()\n",
        "\n",
        "num_plots = len(uniqueAgeRange)\n",
        "\n",
        "# Create subplots\n",
        "fig, axes = plt.subplots(nrows=num_plots, ncols=1, figsize=(5,15),sharey=True)  # sharey=True for sharing y-axis\n",
        "\n",
        "# Plot each Age_Gap in a separate subplot\n",
        "for i, age_gap in enumerate(uniqueAgeRange):\n",
        "    ax = axes[i]\n",
        "    age_gap_df = df_exp[df_exp['Age_Gap'] == age_gap]\n",
        "    ax.bar(age_gap_df['Experience_Gap'], age_gap_df['totalCustomer'], color='skyblue')\n",
        "    ax.set_title(f'Age Range: {age_gap}', fontsize = 11)\n",
        "    ax.set_xticks(range(len(age_gap_df['Experience_Gap'])))\n",
        "    ax.set_ylabel('Customer', fontsize = 9)\n",
        "    ax.set_xlabel('Experience', fontsize = 9)\n",
        "\n",
        "plt.subplots_adjust(wspace=1, hspace=0.5)\n",
        "plt.tight_layout()\n",
        "plt.show()\n"
      ],
      "metadata": {
        "colab": {
          "base_uri": "https://localhost:8080/",
          "height": 1000
        },
        "id": "f1jRe3rRUTuw",
        "outputId": "455573db-f1e0-4ffb-c340-0fc89300e7c6"
      },
      "execution_count": null,
      "outputs": [
        {
          "output_type": "display_data",
          "data": {
            "text/plain": [
              "<Figure size 500x1500 with 5 Axes>"
            ],
            "image/png": "[encoded data removed]"
          },
          "metadata": {}
        }
      ]
    },
    {
      "cell_type": "markdown",
      "source": [
        "What is the average income of customers in each county that meets the specified requirements?"
      ],
      "metadata": {
        "id": "Vy4XlCr9kkCz"
      }
    },
    {
      "cell_type": "code",
      "source": [
        "query = \"\"\"\n",
        "SELECT County, AVG(Income) AS AvgIncome\n",
        "FROM bankLoan\n",
        "WHERE County IN ('Los Angeles', 'Orange', 'San Francisco', 'Santa Clara', 'San Diego', 'Alameda', 'Sacramento', 'San Mateo', 'Contra Costa', 'Marin', 'Riverside')\n",
        "AND Experience >=2\n",
        "AND Age BETWEEN 23 AND 65\n",
        "GROUP BY County ORDER BY County ASC\n",
        "\"\"\"\n",
        "\n",
        "spark.sql(query)"
      ],
      "metadata": {
        "colab": {
          "base_uri": "https://localhost:8080/",
          "height": 278
        },
        "id": "HMwK5I62kjs9",
        "outputId": "b312c711-dbb3-4cc8-aeb9-54276a64bbe3"
      },
      "execution_count": null,
      "outputs": [
        {
          "output_type": "execute_result",
          "data": {
            "text/plain": [
              "+------------+-----------------+\n",
              "|      County|        AvgIncome|\n",
              "+------------+-----------------+\n",
              "|     Alameda| 6142.43375732217|\n",
              "|Contra Costa|6819.444487179486|\n",
              "| Los Angeles| 6295.27435680305|\n",
              "|       Marin|6041.666619999999|\n",
              "|      Orange|6388.323630813953|\n",
              "|   Riverside|5429.487173076925|\n",
              "|  Sacramento|5792.613630681819|\n",
              "|   San Diego|6098.137968864471|\n",
              "|   San Mateo|5894.132653061226|\n",
              "| Santa Clara| 6562.96643097015|\n",
              "+------------+-----------------+"
            ],
            "text/html": [
              "<table border='1'>\n",
              "<tr><th>County</th><th>AvgIncome</th></tr>\n",
              "<tr><td>Alameda</td><td>6142.43375732217</td></tr>\n",
              "<tr><td>Contra Costa</td><td>6819.444487179486</td></tr>\n",
              "<tr><td>Los Angeles</td><td>6295.27435680305</td></tr>\n",
              "<tr><td>Marin</td><td>6041.666619999999</td></tr>\n",
              "<tr><td>Orange</td><td>6388.323630813953</td></tr>\n",
              "<tr><td>Riverside</td><td>5429.487173076925</td></tr>\n",
              "<tr><td>Sacramento</td><td>5792.613630681819</td></tr>\n",
              "<tr><td>San Diego</td><td>6098.137968864471</td></tr>\n",
              "<tr><td>San Mateo</td><td>5894.132653061226</td></tr>\n",
              "<tr><td>Santa Clara</td><td>6562.96643097015</td></tr>\n",
              "</table>\n"
            ]
          },
          "metadata": {},
          "execution_count": 46
        }
      ]
    },
    {
      "cell_type": "code",
      "source": [
        "df_income = spark.sql(query).toPandas()"
      ],
      "metadata": {
        "id": "fOUiiXLlqwus"
      },
      "execution_count": null,
      "outputs": []
    },
    {
      "cell_type": "code",
      "source": [
        "sns.catplot(x='County', y='AvgIncome', kind='bar', data=df_income, aspect=2)\n",
        "plt.xticks(rotation=45, ha='right')\n",
        "plt.xlabel('County')\n",
        "plt.ylabel('Avg Income')\n",
        "plt.title('Average Income by County')\n",
        "plt.tight_layout()\n",
        "plt.show()"
      ],
      "metadata": {
        "colab": {
          "base_uri": "https://localhost:8080/",
          "height": 507
        },
        "id": "CzVrwYJrpRm-",
        "outputId": "6b8d7867-1dfe-4fb2-8e9e-a24f63c6bd84"
      },
      "execution_count": null,
      "outputs": [
        {
          "output_type": "display_data",
          "data": {
            "text/plain": [
              "<Figure size 1011.11x500 with 1 Axes>"
            ],
            "image/png": "[encoded data removed]"
          },
          "metadata": {}
        }
      ]
    },
    {
      "cell_type": "markdown",
      "source": [
        "What percentage of personal loan does customer accepted before based on requirement?"
      ],
      "metadata": {
        "id": "RwDMy-RSzVo8"
      }
    },
    {
      "cell_type": "code",
      "source": [
        "query = \"\"\"\n",
        "SELECT\n",
        "  CASE\n",
        "    WHEN PersonalLoan = '1' THEN 'Accepted'\n",
        "    WHEN PersonalLoan = '0' THEN 'Not Accepted'\n",
        "  END AS LoanStatus,\n",
        "  COUNT(*) AS totalCustomer\n",
        "FROM bankLoan\n",
        "WHERE County IN ('Los Angeles', 'Orange', 'San Francisco', 'Santa Clara', 'San Diego', 'Alameda', 'Sacramento', 'San Mateo', 'Contra Costa', 'Marin', 'Riverside')\n",
        "AND Experience >=2\n",
        "AND Age BETWEEN 23 AND 65\n",
        "AND INCOME >= 2500\n",
        "GROUP BY PersonalLoan\n",
        "\"\"\""
      ],
      "metadata": {
        "id": "rmrmbJqF3b5t"
      },
      "execution_count": null,
      "outputs": []
    },
    {
      "cell_type": "code",
      "source": [
        "df_accloan = spark.sql(query).toPandas()"
      ],
      "metadata": {
        "id": "OOnbyM2UzUsc"
      },
      "execution_count": null,
      "outputs": []
    },
    {
      "cell_type": "code",
      "source": [
        "fig = plt.pie(df_accloan['totalCustomer'], autopct='%1.1f%%', startangle=140)\n",
        "plt.legend(bbox_to_anchor=(1, 0.9), loc='upper left', labels=df_accloan['LoanStatus'])\n",
        "plt.axis('equal')\n",
        "plt.title('Percentage of Accepted Customer Personal Loan',  x=0.68)\n",
        "plt.show()"
      ],
      "metadata": {
        "colab": {
          "base_uri": "https://localhost:8080/",
          "height": 428
        },
        "id": "tc1QgGIa1PbE",
        "outputId": "6ed506ca-a3fa-43cd-f6bc-afbdd95bbf94"
      },
      "execution_count": null,
      "outputs": [
        {
          "output_type": "display_data",
          "data": {
            "text/plain": [
              "<Figure size 640x480 with 1 Axes>"
            ],
            "image/png": "[encoded data removed]"
          },
          "metadata": {}
        }
      ]
    },
    {
      "cell_type": "markdown",
      "source": [
        "## Insight"
      ],
      "metadata": {
        "id": "dYSU783kn8vp"
      }
    },
    {
      "cell_type": "markdown",
      "source": [
        "- Customers aged 51-60 years are more likely to apply for bank loans compared to younger age groups.\n",
        "\n",
        "- A total of 3,675 customers reside in counties that meet the specified requirements.\n",
        "\n",
        "- Only about 348 customers with 2-5 years of professional experience are interested in applying for a bank loan.\n",
        "\n",
        "- The average income in each county that meets the specified requirements is over $5,000 per month.\n",
        "\n",
        "- Approximately 12.1% of customers have successfully applied for a bank loan in the past."
      ],
      "metadata": {
        "id": "5Hd6s2eAZ34d"
      }
    },
    {
      "cell_type": "markdown",
      "source": [
        "## Classification Model"
      ],
      "metadata": {
        "id": "zBgMSZmWYzhW"
      }
    },
    {
      "cell_type": "markdown",
      "source": [
        "Use Correlation to get feature selection"
      ],
      "metadata": {
        "id": "XIzLhQQXeEnJ"
      }
    },
    {
      "cell_type": "code",
      "source": [
        "corr_df = spark.sql(\"SELECT Age, Experience, Income, Family, CCAvg, Education, Mortgage, PersonalLoan, SecuritiesAccount, CDAccount, Online, CreditCard FROM bankLoan\").toPandas()"
      ],
      "metadata": {
        "id": "PE2ZD6PwgtPy"
      },
      "execution_count": null,
      "outputs": []
    },
    {
      "cell_type": "code",
      "source": [
        "corr_df.corr()"
      ],
      "metadata": {
        "colab": {
          "base_uri": "https://localhost:8080/",
          "height": 446
        },
        "id": "NINtM3NPpTkQ",
        "outputId": "64d9f5c8-4bb8-4651-8314-ef5f8768327b"
      },
      "execution_count": null,
      "outputs": [
        {
          "output_type": "execute_result",
          "data": {
            "text/plain": [
              "                        Age  Experience    Income    Family     CCAvg  \\\n",
              "Age                1.000000    0.994198 -0.055269 -0.046418 -0.052012   \n",
              "Experience         0.994198    1.000000 -0.046729 -0.052213 -0.049912   \n",
              "Income            -0.055269   -0.046729  1.000000 -0.157501  0.645984   \n",
              "Family            -0.046418   -0.052213 -0.157501  1.000000 -0.109275   \n",
              "CCAvg             -0.052012   -0.049912  0.645984 -0.109275  1.000000   \n",
              "Education          0.041334    0.013536 -0.187524  0.064929 -0.136124   \n",
              "Mortgage          -0.012539   -0.010840  0.206806 -0.020445  0.109905   \n",
              "PersonalLoan      -0.007726   -0.007858  0.502462  0.061367  0.366889   \n",
              "SecuritiesAccount -0.000436   -0.001111 -0.002616  0.019994  0.015086   \n",
              "CDAccount          0.008043    0.010046  0.169738  0.014110  0.136534   \n",
              "Online             0.013702    0.013975  0.014206  0.010354 -0.003611   \n",
              "CreditCard         0.007681    0.008910 -0.002385  0.011588 -0.006689   \n",
              "\n",
              "                   Education  Mortgage  PersonalLoan  SecuritiesAccount  \\\n",
              "Age                 0.041334 -0.012539     -0.007726          -0.000436   \n",
              "Experience          0.013536 -0.010840     -0.007858          -0.001111   \n",
              "Income             -0.187524  0.206806      0.502462          -0.002616   \n",
              "Family              0.064929 -0.020445      0.061367           0.019994   \n",
              "CCAvg              -0.136124  0.109905      0.366889           0.015086   \n",
              "Education           1.000000 -0.033327      0.136722          -0.010812   \n",
              "Mortgage           -0.033327  1.000000      0.142095          -0.005411   \n",
              "PersonalLoan        0.136722  0.142095      1.000000           0.021954   \n",
              "SecuritiesAccount  -0.010812 -0.005411      0.021954           1.000000   \n",
              "CDAccount           0.013934  0.089311      0.316355           0.317034   \n",
              "Online             -0.015004 -0.005995      0.006278           0.012627   \n",
              "CreditCard         -0.011014 -0.007231      0.002802          -0.015028   \n",
              "\n",
              "                   CDAccount    Online  CreditCard  \n",
              "Age                 0.008043  0.013702    0.007681  \n",
              "Experience          0.010046  0.013975    0.008910  \n",
              "Income              0.169738  0.014206   -0.002385  \n",
              "Family              0.014110  0.010354    0.011588  \n",
              "CCAvg               0.136534 -0.003611   -0.006689  \n",
              "Education           0.013934 -0.015004   -0.011014  \n",
              "Mortgage            0.089311 -0.005995   -0.007231  \n",
              "PersonalLoan        0.316355  0.006278    0.002802  \n",
              "SecuritiesAccount   0.317034  0.012627   -0.015028  \n",
              "CDAccount           1.000000  0.175880    0.278644  \n",
              "Online              0.175880  1.000000    0.004210  \n",
              "CreditCard          0.278644  0.004210    1.000000  "
            ],
            "text/html": [
              "\n",
              "  <div id=\"df-2c0eeb0c-a7a1-48f7-bcd8-62275f38aaf2\" class=\"colab-df-container\">\n",
              "    <div>\n",
              "<style scoped>\n",
              "    .dataframe tbody tr th:only-of-type {\n",
              "        vertical-align: middle;\n",
              "    }\n",
              "\n",
              "    .dataframe tbody tr th {\n",
              "        vertical-align: top;\n",
              "    }\n",
              "\n",
              "    .dataframe thead th {\n",
              "        text-align: right;\n",
              "    }\n",
              "</style>\n",
              "<table border=\"1\" class=\"dataframe\">\n",
              "  <thead>\n",
              "    <tr style=\"text-align: right;\">\n",
              "      <th></th>\n",
              "      <th>Age</th>\n",
              "      <th>Experience</th>\n",
              "      <th>Income</th>\n",
              "      <th>Family</th>\n",
              "      <th>CCAvg</th>\n",
              "      <th>Education</th>\n",
              "      <th>Mortgage</th>\n",
              "      <th>PersonalLoan</th>\n",
              "      <th>SecuritiesAccount</th>\n",
              "      <th>CDAccount</th>\n",
              "      <th>Online</th>\n",
              "      <th>CreditCard</th>\n",
              "    </tr>\n",
              "  </thead>\n",
              "  <tbody>\n",
              "    <tr>\n",
              "      <th>Age</th>\n",
              "      <td>1.000000</td>\n",
              "      <td>0.994198</td>\n",
              "      <td>-0.055269</td>\n",
              "      <td>-0.046418</td>\n",
              "      <td>-0.052012</td>\n",
              "      <td>0.041334</td>\n",
              "      <td>-0.012539</td>\n",
              "      <td>-0.007726</td>\n",
              "      <td>-0.000436</td>\n",
              "      <td>0.008043</td>\n",
              "      <td>0.013702</td>\n",
              "      <td>0.007681</td>\n",
              "    </tr>\n",
              "    <tr>\n",
              "      <th>Experience</th>\n",
              "      <td>0.994198</td>\n",
              "      <td>1.000000</td>\n",
              "      <td>-0.046729</td>\n",
              "      <td>-0.052213</td>\n",
              "      <td>-0.049912</td>\n",
              "      <td>0.013536</td>\n",
              "      <td>-0.010840</td>\n",
              "      <td>-0.007858</td>\n",
              "      <td>-0.001111</td>\n",
              "      <td>0.010046</td>\n",
              "      <td>0.013975</td>\n",
              "      <td>0.008910</td>\n",
              "    </tr>\n",
              "    <tr>\n",
              "      <th>Income</th>\n",
              "      <td>-0.055269</td>\n",
              "      <td>-0.046729</td>\n",
              "      <td>1.000000</td>\n",
              "      <td>-0.157501</td>\n",
              "      <td>0.645984</td>\n",
              "      <td>-0.187524</td>\n",
              "      <td>0.206806</td>\n",
              "      <td>0.502462</td>\n",
              "      <td>-0.002616</td>\n",
              "      <td>0.169738</td>\n",
              "      <td>0.014206</td>\n",
              "      <td>-0.002385</td>\n",
              "    </tr>\n",
              "    <tr>\n",
              "      <th>Family</th>\n",
              "      <td>-0.046418</td>\n",
              "      <td>-0.052213</td>\n",
              "      <td>-0.157501</td>\n",
              "      <td>1.000000</td>\n",
              "      <td>-0.109275</td>\n",
              "      <td>0.064929</td>\n",
              "      <td>-0.020445</td>\n",
              "      <td>0.061367</td>\n",
              "      <td>0.019994</td>\n",
              "      <td>0.014110</td>\n",
              "      <td>0.010354</td>\n",
              "      <td>0.011588</td>\n",
              "    </tr>\n",
              "    <tr>\n",
              "      <th>CCAvg</th>\n",
              "      <td>-0.052012</td>\n",
              "      <td>-0.049912</td>\n",
              "      <td>0.645984</td>\n",
              "      <td>-0.109275</td>\n",
              "      <td>1.000000</td>\n",
              "      <td>-0.136124</td>\n",
              "      <td>0.109905</td>\n",
              "      <td>0.366889</td>\n",
              "      <td>0.015086</td>\n",
              "      <td>0.136534</td>\n",
              "      <td>-0.003611</td>\n",
              "      <td>-0.006689</td>\n",
              "    </tr>\n",
              "    <tr>\n",
              "      <th>Education</th>\n",
              "      <td>0.041334</td>\n",
              "      <td>0.013536</td>\n",
              "      <td>-0.187524</td>\n",
              "      <td>0.064929</td>\n",
              "      <td>-0.136124</td>\n",
              "      <td>1.000000</td>\n",
              "      <td>-0.033327</td>\n",
              "      <td>0.136722</td>\n",
              "      <td>-0.010812</td>\n",
              "      <td>0.013934</td>\n",
              "      <td>-0.015004</td>\n",
              "      <td>-0.011014</td>\n",
              "    </tr>\n",
              "    <tr>\n",
              "      <th>Mortgage</th>\n",
              "      <td>-0.012539</td>\n",
              "      <td>-0.010840</td>\n",
              "      <td>0.206806</td>\n",
              "      <td>-0.020445</td>\n",
              "      <td>0.109905</td>\n",
              "      <td>-0.033327</td>\n",
              "      <td>1.000000</td>\n",
              "      <td>0.142095</td>\n",
              "      <td>-0.005411</td>\n",
              "      <td>0.089311</td>\n",
              "      <td>-0.005995</td>\n",
              "      <td>-0.007231</td>\n",
              "    </tr>\n",
              "    <tr>\n",
              "      <th>PersonalLoan</th>\n",
              "      <td>-0.007726</td>\n",
              "      <td>-0.007858</td>\n",
              "      <td>0.502462</td>\n",
              "      <td>0.061367</td>\n",
              "      <td>0.366889</td>\n",
              "      <td>0.136722</td>\n",
              "      <td>0.142095</td>\n",
              "      <td>1.000000</td>\n",
              "      <td>0.021954</td>\n",
              "      <td>0.316355</td>\n",
              "      <td>0.006278</td>\n",
              "      <td>0.002802</td>\n",
              "    </tr>\n",
              "    <tr>\n",
              "      <th>SecuritiesAccount</th>\n",
              "      <td>-0.000436</td>\n",
              "      <td>-0.001111</td>\n",
              "      <td>-0.002616</td>\n",
              "      <td>0.019994</td>\n",
              "      <td>0.015086</td>\n",
              "      <td>-0.010812</td>\n",
              "      <td>-0.005411</td>\n",
              "      <td>0.021954</td>\n",
              "      <td>1.000000</td>\n",
              "      <td>0.317034</td>\n",
              "      <td>0.012627</td>\n",
              "      <td>-0.015028</td>\n",
              "    </tr>\n",
              "    <tr>\n",
              "      <th>CDAccount</th>\n",
              "      <td>0.008043</td>\n",
              "      <td>0.010046</td>\n",
              "      <td>0.169738</td>\n",
              "      <td>0.014110</td>\n",
              "      <td>0.136534</td>\n",
              "      <td>0.013934</td>\n",
              "      <td>0.089311</td>\n",
              "      <td>0.316355</td>\n",
              "      <td>0.317034</td>\n",
              "      <td>1.000000</td>\n",
              "      <td>0.175880</td>\n",
              "      <td>0.278644</td>\n",
              "    </tr>\n",
              "    <tr>\n",
              "      <th>Online</th>\n",
              "      <td>0.013702</td>\n",
              "      <td>0.013975</td>\n",
              "      <td>0.014206</td>\n",
              "      <td>0.010354</td>\n",
              "      <td>-0.003611</td>\n",
              "      <td>-0.015004</td>\n",
              "      <td>-0.005995</td>\n",
              "      <td>0.006278</td>\n",
              "      <td>0.012627</td>\n",
              "      <td>0.175880</td>\n",
              "      <td>1.000000</td>\n",
              "      <td>0.004210</td>\n",
              "    </tr>\n",
              "    <tr>\n",
              "      <th>CreditCard</th>\n",
              "      <td>0.007681</td>\n",
              "      <td>0.008910</td>\n",
              "      <td>-0.002385</td>\n",
              "      <td>0.011588</td>\n",
              "      <td>-0.006689</td>\n",
              "      <td>-0.011014</td>\n",
              "      <td>-0.007231</td>\n",
              "      <td>0.002802</td>\n",
              "      <td>-0.015028</td>\n",
              "      <td>0.278644</td>\n",
              "      <td>0.004210</td>\n",
              "      <td>1.000000</td>\n",
              "    </tr>\n",
              "  </tbody>\n",
              "</table>\n",
              "</div>\n",
              "    <div class=\"colab-df-buttons\">\n",
              "\n",
              "  <div class=\"colab-df-container\">\n",
              "    <button class=\"colab-df-convert\" onclick=\"convertToInteractive('df-2c0eeb0c-a7a1-48f7-bcd8-62275f38aaf2')\"\n",
              "            title=\"Convert this dataframe to an interactive table.\"\n",
              "            style=\"display:none;\">\n",
              "\n",
              "  <svg xmlns=\"http://www.w3.org/2000/svg\" height=\"24px\" viewBox=\"0 -960 960 960\">\n",
              "    <path d=\"M120-120v-720h720v720H120Zm60-500h600v-160H180v160Zm220 220h160v-160H400v160Zm0 220h160v-160H400v160ZM180-400h160v-160H180v160Zm440 0h160v-160H620v160ZM180-180h160v-160H180v160Zm440 0h160v-160H620v160Z\"/>\n",
              "  </svg>\n",
              "    </button>\n",
              "\n",
              "  <style>\n",
              "    .colab-df-container {\n",
              "      display:flex;\n",
              "      gap: 12px;\n",
              "    }\n",
              "\n",
              "    .colab-df-convert {\n",
              "      background-color: #E8F0FE;\n",
              "      border: none;\n",
              "      border-radius: 50%;\n",
              "      cursor: pointer;\n",
              "      display: none;\n",
              "      fill: #1967D2;\n",
              "      height: 32px;\n",
              "      padding: 0 0 0 0;\n",
              "      width: 32px;\n",
              "    }\n",
              "\n",
              "    .colab-df-convert:hover {\n",
              "      background-color: #E2EBFA;\n",
              "      box-shadow: 0px 1px 2px rgba(60, 64, 67, 0.3), 0px 1px 3px 1px rgba(60, 64, 67, 0.15);\n",
              "      fill: #174EA6;\n",
              "    }\n",
              "\n",
              "    .colab-df-buttons div {\n",
              "      margin-bottom: 4px;\n",
              "    }\n",
              "\n",
              "    [theme=dark] .colab-df-convert {\n",
              "      background-color: #3B4455;\n",
              "      fill: #D2E3FC;\n",
              "    }\n",
              "\n",
              "    [theme=dark] .colab-df-convert:hover {\n",
              "      background-color: #434B5C;\n",
              "      box-shadow: 0px 1px 3px 1px rgba(0, 0, 0, 0.15);\n",
              "      filter: drop-shadow(0px 1px 2px rgba(0, 0, 0, 0.3));\n",
              "      fill: #FFFFFF;\n",
              "    }\n",
              "  </style>\n",
              "\n",
              "    <script>\n",
              "      const buttonEl =\n",
              "        document.querySelector('#df-2c0eeb0c-a7a1-48f7-bcd8-62275f38aaf2 button.colab-df-convert');\n",
              "      buttonEl.style.display =\n",
              "        google.colab.kernel.accessAllowed ? 'block' : 'none';\n",
              "\n",
              "      async function convertToInteractive(key) {\n",
              "        const element = document.querySelector('#df-2c0eeb0c-a7a1-48f7-bcd8-62275f38aaf2');\n",
              "        const dataTable =\n",
              "          await google.colab.kernel.invokeFunction('convertToInteractive',\n",
              "                                                    [key], {});\n",
              "        if (!dataTable) return;\n",
              "\n",
              "        const docLinkHtml = 'Like what you see? Visit the ' +\n",
              "          '<a target=\"_blank\" href=https://colab.research.google.com/notebooks/data_table.ipynb>data table notebook</a>'\n",
              "          + ' to learn more about interactive tables.';\n",
              "        element.innerHTML = '';\n",
              "        dataTable['output_type'] = 'display_data';\n",
              "        await google.colab.output.renderOutput(dataTable, element);\n",
              "        const docLink = document.createElement('div');\n",
              "        docLink.innerHTML = docLinkHtml;\n",
              "        element.appendChild(docLink);\n",
              "      }\n",
              "    </script>\n",
              "  </div>\n",
              "\n",
              "\n",
              "<div id=\"df-dae00968-bb38-4d12-b93c-90f79f2d8cf6\">\n",
              "  <button class=\"colab-df-quickchart\" onclick=\"quickchart('df-dae00968-bb38-4d12-b93c-90f79f2d8cf6')\"\n",
              "            title=\"Suggest charts\"\n",
              "            style=\"display:none;\">\n",
              "\n",
              "<svg xmlns=\"http://www.w3.org/2000/svg\" height=\"24px\"viewBox=\"0 0 24 24\"\n",
              "     width=\"24px\">\n",
              "    <g>\n",
              "        <path d=\"M19 3H5c-1.1 0-2 .9-2 2v14c0 1.1.9 2 2 2h14c1.1 0 2-.9 2-2V5c0-1.1-.9-2-2-2zM9 17H7v-7h2v7zm4 0h-2V7h2v10zm4 0h-2v-4h2v4z\"/>\n",
              "    </g>\n",
              "</svg>\n",
              "  </button>\n",
              "\n",
              "<style>\n",
              "  .colab-df-quickchart {\n",
              "      --bg-color: #E8F0FE;\n",
              "      --fill-color: #1967D2;\n",
              "      --hover-bg-color: #E2EBFA;\n",
              "      --hover-fill-color: #174EA6;\n",
              "      --disabled-fill-color: #AAA;\n",
              "      --disabled-bg-color: #DDD;\n",
              "  }\n",
              "\n",
              "  [theme=dark] .colab-df-quickchart {\n",
              "      --bg-color: #3B4455;\n",
              "      --fill-color: #D2E3FC;\n",
              "      --hover-bg-color: #434B5C;\n",
              "      --hover-fill-color: #FFFFFF;\n",
              "      --disabled-bg-color: #3B4455;\n",
              "      --disabled-fill-color: #666;\n",
              "  }\n",
              "\n",
              "  .colab-df-quickchart {\n",
              "    background-color: var(--bg-color);\n",
              "    border: none;\n",
              "    border-radius: 50%;\n",
              "    cursor: pointer;\n",
              "    display: none;\n",
              "    fill: var(--fill-color);\n",
              "    height: 32px;\n",
              "    padding: 0;\n",
              "    width: 32px;\n",
              "  }\n",
              "\n",
              "  .colab-df-quickchart:hover {\n",
              "    background-color: var(--hover-bg-color);\n",
              "    box-shadow: 0 1px 2px rgba(60, 64, 67, 0.3), 0 1px 3px 1px rgba(60, 64, 67, 0.15);\n",
              "    fill: var(--button-hover-fill-color);\n",
              "  }\n",
              "\n",
              "  .colab-df-quickchart-complete:disabled,\n",
              "  .colab-df-quickchart-complete:disabled:hover {\n",
              "    background-color: var(--disabled-bg-color);\n",
              "    fill: var(--disabled-fill-color);\n",
              "    box-shadow: none;\n",
              "  }\n",
              "\n",
              "  .colab-df-spinner {\n",
              "    border: 2px solid var(--fill-color);\n",
              "    border-color: transparent;\n",
              "    border-bottom-color: var(--fill-color);\n",
              "    animation:\n",
              "      spin 1s steps(1) infinite;\n",
              "  }\n",
              "\n",
              "  @keyframes spin {\n",
              "    0% {\n",
              "      border-color: transparent;\n",
              "      border-bottom-color: var(--fill-color);\n",
              "      border-left-color: var(--fill-color);\n",
              "    }\n",
              "    20% {\n",
              "      border-color: transparent;\n",
              "      border-left-color: var(--fill-color);\n",
              "      border-top-color: var(--fill-color);\n",
              "    }\n",
              "    30% {\n",
              "      border-color: transparent;\n",
              "      border-left-color: var(--fill-color);\n",
              "      border-top-color: var(--fill-color);\n",
              "      border-right-color: var(--fill-color);\n",
              "    }\n",
              "    40% {\n",
              "      border-color: transparent;\n",
              "      border-right-color: var(--fill-color);\n",
              "      border-top-color: var(--fill-color);\n",
              "    }\n",
              "    60% {\n",
              "      border-color: transparent;\n",
              "      border-right-color: var(--fill-color);\n",
              "    }\n",
              "    80% {\n",
              "      border-color: transparent;\n",
              "      border-right-color: var(--fill-color);\n",
              "      border-bottom-color: var(--fill-color);\n",
              "    }\n",
              "    90% {\n",
              "      border-color: transparent;\n",
              "      border-bottom-color: var(--fill-color);\n",
              "    }\n",
              "  }\n",
              "</style>\n",
              "\n",
              "  <script>\n",
              "    async function quickchart(key) {\n",
              "      const quickchartButtonEl =\n",
              "        document.querySelector('#' + key + ' button');\n",
              "      quickchartButtonEl.disabled = true;  // To prevent multiple clicks.\n",
              "      quickchartButtonEl.classList.add('colab-df-spinner');\n",
              "      try {\n",
              "        const charts = await google.colab.kernel.invokeFunction(\n",
              "            'suggestCharts', [key], {});\n",
              "      } catch (error) {\n",
              "        console.error('Error during call to suggestCharts:', error);\n",
              "      }\n",
              "      quickchartButtonEl.classList.remove('colab-df-spinner');\n",
              "      quickchartButtonEl.classList.add('colab-df-quickchart-complete');\n",
              "    }\n",
              "    (() => {\n",
              "      let quickchartButtonEl =\n",
              "        document.querySelector('#df-dae00968-bb38-4d12-b93c-90f79f2d8cf6 button');\n",
              "      quickchartButtonEl.style.display =\n",
              "        google.colab.kernel.accessAllowed ? 'block' : 'none';\n",
              "    })();\n",
              "  </script>\n",
              "</div>\n",
              "    </div>\n",
              "  </div>\n"
            ],
            "application/vnd.google.colaboratory.intrinsic+json": {
              "type": "dataframe",
              "summary": "{\n  \"name\": \"corr_df\",\n  \"rows\": 12,\n  \"fields\": [\n    {\n      \"column\": \"Age\",\n      \"properties\": {\n        \"dtype\": \"number\",\n        \"std\": 0.39320699921061925,\n        \"min\": -0.055268618179922124,\n        \"max\": 1.0,\n        \"num_unique_values\": 12,\n        \"samples\": [\n          0.013702402055123448,\n          0.008042552147187281,\n          1.0\n        ],\n        \"semantic_type\": \"\",\n        \"description\": \"\"\n      }\n    },\n    {\n      \"column\": \"Experience\",\n      \"properties\": {\n        \"dtype\": \"number\",\n        \"std\": 0.3936468809697599,\n        \"min\": -0.05221294091304441,\n        \"max\": 1.0,\n        \"num_unique_values\": 12,\n        \"samples\": [\n          0.013975465108772836,\n          0.01004573216698994,\n          0.9941975435258216\n        ],\n        \"semantic_type\": \"\",\n        \"description\": \"\"\n      }\n    },\n    {\n      \"column\": \"Income\",\n      \"properties\": {\n        \"dtype\": \"number\",\n        \"std\": 0.36228360976195195,\n        \"min\": -0.18752425677562057,\n        \"max\": 1.0,\n        \"num_unique_values\": 12,\n        \"samples\": [\n          0.014205917495929452,\n          0.16973807891983408,\n          -0.055268618179922124\n        ],\n        \"semantic_type\": \"\",\n        \"description\": \"\"\n      }\n    },\n    {\n      \"column\": \"Family\",\n      \"properties\": {\n        \"dtype\": \"number\",\n        \"std\": 0.30120993167365395,\n        \"min\": -0.15750078698215642,\n        \"max\": 1.0,\n        \"num_unique_values\": 12,\n        \"samples\": [\n          0.010354036168282245,\n          0.014110364815959373,\n          -0.046417663585597714\n        ],\n        \"semantic_type\": \"\",\n        \"description\": \"\"\n      }\n    },\n    {\n      \"column\": \"CCAvg\",\n      \"properties\": {\n        \"dtype\": \"number\",\n        \"std\": 0.345412375316079,\n        \"min\": -0.13612392470080092,\n        \"max\": 1.0,\n        \"num_unique_values\": 12,\n        \"samples\": [\n          -0.00361100882763402,\n          0.1365336540472708,\n          -0.052012177394458126\n        ],\n        \"semantic_type\": \"\",\n        \"description\": \"\"\n      }\n    },\n    {\n      \"column\": \"Education\",\n      \"properties\": {\n        \"dtype\": \"number\",\n        \"std\": 0.30394687321051267,\n        \"min\": -0.18752425677562057,\n        \"max\": 1.0,\n        \"num_unique_values\": 12,\n        \"samples\": [\n          -0.015003820555225846,\n          0.013933888212947438,\n          0.04133438336063453\n        ],\n        \"semantic_type\": \"\",\n        \"description\": \"\"\n      }\n    },\n    {\n      \"column\": \"Mortgage\",\n      \"properties\": {\n        \"dtype\": \"number\",\n        \"std\": 0.28749140353549835,\n        \"min\": -0.033327124629950466,\n        \"max\": 1.0,\n        \"num_unique_values\": 12,\n        \"samples\": [\n          -0.005994898357871135,\n          0.08931105824156661,\n          -0.012538586859834017\n        ],\n        \"semantic_type\": \"\",\n        \"description\": \"\"\n      }\n    },\n    {\n      \"column\": \"PersonalLoan\",\n      \"properties\": {\n        \"dtype\": \"number\",\n        \"std\": 0.3003416452697179,\n        \"min\": -0.007858206327409321,\n        \"max\": 1.0,\n        \"num_unique_values\": 12,\n        \"samples\": [\n          0.0062778153967586675,\n          0.3163548294144036,\n          -0.007725617173534203\n        ],\n        \"semantic_type\": \"\",\n        \"description\": \"\"\n      }\n    },\n    {\n      \"column\": \"SecuritiesAccount\",\n      \"properties\": {\n        \"dtype\": \"number\",\n        \"std\": 0.2938763688620146,\n        \"min\": -0.01502831889730028,\n        \"max\": 1.0,\n        \"num_unique_values\": 12,\n        \"samples\": [\n          0.012627470353373395,\n          0.31703441568066154,\n          -0.0004362422234353478\n        ],\n        \"semantic_type\": \"\",\n        \"description\": \"\"\n      }\n    },\n    {\n      \"column\": \"CDAccount\",\n      \"properties\": {\n        \"dtype\": \"number\",\n        \"std\": 0.2750047186135721,\n        \"min\": 0.008042552147187281,\n        \"max\": 1.0,\n        \"num_unique_values\": 12,\n        \"samples\": [\n          0.17588001598343864,\n          1.0,\n          0.008042552147187281\n        ],\n        \"semantic_type\": \"\",\n        \"description\": \"\"\n      }\n    },\n    {\n      \"column\": \"Online\",\n      \"properties\": {\n        \"dtype\": \"number\",\n        \"std\": 0.2871067058305942,\n        \"min\": -0.015003820555225846,\n        \"max\": 1.0,\n        \"num_unique_values\": 12,\n        \"samples\": [\n          1.0,\n          0.17588001598343864,\n          0.013702402055123448\n        ],\n        \"semantic_type\": \"\",\n        \"description\": \"\"\n      }\n    },\n    {\n      \"column\": \"CreditCard\",\n      \"properties\": {\n        \"dtype\": \"number\",\n        \"std\": 0.2928958133173313,\n        \"min\": -0.01502831889730028,\n        \"max\": 1.0,\n        \"num_unique_values\": 12,\n        \"samples\": [\n          0.004209656154684401,\n          0.27864436461471453,\n          0.007681036758939914\n        ],\n        \"semantic_type\": \"\",\n        \"description\": \"\"\n      }\n    }\n  ]\n}"
            }
          },
          "metadata": {},
          "execution_count": 53
        }
      ]
    },
    {
      "cell_type": "markdown",
      "source": [
        "Create Feature Columns. Features That I used for this classification which are :\n",
        "- Income\n",
        "- Family\n",
        "- CCAvg\n",
        "- Education\n",
        "- Mortgage\n",
        "- SecuritiesAccount\n",
        "- CDAccount\n",
        "- Online\n",
        "- CreditCard\n",
        "\n",
        "I used those because there is a postive correlation within Personal Loan."
      ],
      "metadata": {
        "id": "eKpwum2DgeUl"
      }
    },
    {
      "cell_type": "code",
      "source": [
        "corr_df = spark.sql(\"SELECT Income, Family, CCAvg, Education, Mortgage, PersonalLoan, SecuritiesAccount, CDAccount, Online, CreditCard FROM bankLoan\")"
      ],
      "metadata": {
        "id": "Y6l31snYnMQR"
      },
      "execution_count": null,
      "outputs": []
    },
    {
      "cell_type": "code",
      "source": [
        "from pyspark.ml.feature import VectorAssembler\n",
        "\n",
        "numericCols = [\"Income\", \"Family\", \"CCAvg\", \"Education\", \"Mortgage\", \"SecuritiesAccount\", \"CDAccount\", \"Online\", \"CreditCard\"]\n",
        "assembler = VectorAssembler(inputCols=numericCols, outputCol=\"features\")\n",
        "features_df = assembler.transform(corr_df)"
      ],
      "metadata": {
        "id": "xGzWtD51f7uz"
      },
      "execution_count": null,
      "outputs": []
    },
    {
      "cell_type": "code",
      "source": [
        "features_df.show(3)"
      ],
      "metadata": {
        "colab": {
          "base_uri": "https://localhost:8080/"
        },
        "id": "sb9mBez0nYaG",
        "outputId": "12c60748-638e-43ab-b331-1e1b2eef4d77"
      },
      "execution_count": null,
      "outputs": [
        {
          "output_type": "stream",
          "name": "stdout",
          "text": [
            "+--------+------+-----+---------+--------+------------+-----------------+---------+------+----------+--------------------+\n",
            "|  Income|Family|CCAvg|Education|Mortgage|PersonalLoan|SecuritiesAccount|CDAccount|Online|CreditCard|            features|\n",
            "+--------+------+-----+---------+--------+------------+-----------------+---------+------+----------+--------------------+\n",
            "|4083.333|     4|  1.6|        1|       0|           0|                1|        0|     0|         0|[4083.333,4.0,1.6...|\n",
            "|2833.333|     3|  1.5|        1|       0|           0|                1|        0|     0|         0|[2833.333,3.0,1.5...|\n",
            "| 916.667|     1|  1.0|        1|       0|           0|                0|        0|     0|         0|(9,[0,1,2,3],[916...|\n",
            "+--------+------+-----+---------+--------+------------+-----------------+---------+------+----------+--------------------+\n",
            "only showing top 3 rows\n",
            "\n"
          ]
        }
      ]
    },
    {
      "cell_type": "markdown",
      "source": [
        "Split Data"
      ],
      "metadata": {
        "id": "OopbX7r1YbKF"
      }
    },
    {
      "cell_type": "code",
      "source": [
        "train, test = features_df.randomSplit([0.7,0.3], seed=10000)"
      ],
      "metadata": {
        "id": "JS916bHpqt_z"
      },
      "execution_count": null,
      "outputs": []
    },
    {
      "cell_type": "code",
      "source": [
        "print(f\"Training Dataset Count: {str(train.count())}\")\n",
        "print(f\"Test Dataset Count: {str(test.count())}\")"
      ],
      "metadata": {
        "colab": {
          "base_uri": "https://localhost:8080/"
        },
        "id": "pqUan1FhkjSY",
        "outputId": "400d4d3f-9c57-4135-efa4-c821f4e49327"
      },
      "execution_count": null,
      "outputs": [
        {
          "output_type": "stream",
          "name": "stdout",
          "text": [
            "Training Dataset Count: 3512\n",
            "Test Dataset Count: 1488\n"
          ]
        }
      ]
    },
    {
      "cell_type": "markdown",
      "source": [
        "Train The Model"
      ],
      "metadata": {
        "id": "wwQp_4XAoaoZ"
      }
    },
    {
      "cell_type": "markdown",
      "source": [
        "I used Random Forest Classifier for this Dataset because :\n",
        "- It can handling the multi features.\n",
        "- It can handling the overfit data.\n",
        "- Stability because it is based on majority voting/averaging."
      ],
      "metadata": {
        "id": "hQUjk24Zqay8"
      }
    },
    {
      "cell_type": "code",
      "source": [
        "from pyspark.ml.classification import RandomForestClassifier\n",
        "\n",
        "#Train The Data\n",
        "random_forest = RandomForestClassifier(featuresCol = 'features', labelCol = 'PersonalLoan', seed=1000, numTrees=25)\n",
        "random_forestModel = random_forest.fit(train)"
      ],
      "metadata": {
        "id": "KXmo5EVplXos"
      },
      "execution_count": null,
      "outputs": []
    },
    {
      "cell_type": "code",
      "source": [
        "#Test the Data\n",
        "predictions = random_forestModel.transform(test)\n",
        "predictions.select(\"Income\", \"Family\", \"CCAvg\", \"Education\", \"Mortgage\", \"SecuritiesAccount\", \"CDAccount\", \"Online\", \"CreditCard\", 'rawPrediction', 'prediction', 'probability').show(25)"
      ],
      "metadata": {
        "colab": {
          "base_uri": "https://localhost:8080/"
        },
        "id": "DJIP7XKes02o",
        "outputId": "b9e4e015-3ac0-45d6-a2ff-a20b02fa4ed0"
      },
      "execution_count": null,
      "outputs": [
        {
          "output_type": "stream",
          "name": "stdout",
          "text": [
            "+-------+------+-----+---------+--------+-----------------+---------+------+----------+--------------------+----------+--------------------+\n",
            "| Income|Family|CCAvg|Education|Mortgage|SecuritiesAccount|CDAccount|Online|CreditCard|       rawPrediction|prediction|         probability|\n",
            "+-------+------+-----+---------+--------+-----------------+---------+------+----------+--------------------+----------+--------------------+\n",
            "|666.667|     1|  0.3|        1|       0|                0|        0|     1|         0|[24.7684425303913...|       0.0|[0.99073770121565...|\n",
            "|666.667|     1|  0.8|        2|      97|                0|        0|     1|         0|[24.6624222688762...|       0.0|[0.98649689075504...|\n",
            "|666.667|     2|  0.1|        2|       0|                0|        0|     0|         0|[24.6305111130569...|       0.0|[0.98522044452227...|\n",
            "|666.667|     2|  0.3|        1|       0|                0|        0|     1|         1|[24.7817814693081...|       0.0|[0.99127125877232...|\n",
            "|666.667|     2|  0.9|        3|       0|                0|        0|     0|         1|[24.6311847924151...|       0.0|[0.98524739169660...|\n",
            "|666.667|     2|  1.0|        1|       0|                0|        0|     0|         0|[24.7908638875109...|       0.0|[0.99163455550043...|\n",
            "|666.667|     4|  0.2|        3|      81|                0|        0|     0|         1|[24.7973782109851...|       0.0|[0.99189512843940...|\n",
            "|666.667|     4|  0.4|        3|       0|                1|        0|     1|         0|[24.7481440525040...|       0.0|[0.98992576210016...|\n",
            "|666.667|     4|  0.7|        1|      91|                1|        0|     0|         0|[24.8081208376362...|       0.0|[0.99232483350545...|\n",
            "|  750.0|     1|  0.1|        1|      94|                0|        0|     0|         0|[24.7882330944137...|       0.0|[0.99152932377655...|\n",
            "|  750.0|     1|  0.1|        2|      91|                1|        0|     1|         0|[24.5951185713274...|       0.0|[0.98380474285309...|\n",
            "|  750.0|     1|  0.5|        2|      98|                0|        0|     1|         0|[24.6624222688762...|       0.0|[0.98649689075504...|\n",
            "|  750.0|     2|  0.0|        3|      96|                0|        0|     1|         1|[24.6757612077930...|       0.0|[0.98703044831172...|\n",
            "|  750.0|     2|  0.2|        3|       0|                0|        0|     1|         0|[24.6305111130569...|       0.0|[0.98522044452227...|\n",
            "|  750.0|     2|  0.3|        2|       0|                0|        0|     0|         1|[24.6311847924151...|       0.0|[0.98524739169660...|\n",
            "|  750.0|     2|  0.3|        3|       0|                0|        0|     1|         0|[24.6305111130569...|       0.0|[0.98522044452227...|\n",
            "|  750.0|     2|  0.7|        3|       0|                0|        0|     1|         0|[24.6305111130569...|       0.0|[0.98522044452227...|\n",
            "|833.333|     1|  0.1|        1|       0|                0|        0|     0|         0|[24.7781986279523...|       0.0|[0.99112794511809...|\n",
            "|833.333|     2|  0.7|        3|       0|                0|        0|     1|         1|[24.6311847924151...|       0.0|[0.98524739169660...|\n",
            "|833.333|     3|  0.5|        1|       0|                0|        0|     1|         0|[24.7240215919417...|       0.0|[0.98896086367767...|\n",
            "|833.333|     4|  0.4|        1|      87|                0|        0|     1|         1|[24.7347297377614...|       0.0|[0.98938918951045...|\n",
            "|833.333|     4|  0.4|        2|       0|                0|        0|     1|         0|[24.7490385178968...|       0.0|[0.98996154071587...|\n",
            "|833.333|     4|  0.7|        1|       0|                0|        0|     0|         0|[24.7980863711747...|       0.0|[0.99192345484699...|\n",
            "|833.333|     4|  1.0|        1|      81|                0|        0|     0|         1|[24.8087945169944...|       0.0|[0.99235178067977...|\n",
            "|916.667|     1|  0.4|        2|      76|                0|        0|     0|         1|[24.6630959482344...|       0.0|[0.98652383792937...|\n",
            "+-------+------+-----+---------+--------+-----------------+---------+------+----------+--------------------+----------+--------------------+\n",
            "only showing top 25 rows\n",
            "\n"
          ]
        }
      ]
    },
    {
      "cell_type": "markdown",
      "source": [
        "Model Evaluating"
      ],
      "metadata": {
        "id": "mF8EBRrWpwgU"
      }
    },
    {
      "cell_type": "code",
      "source": [
        "from pyspark.ml.evaluation import BinaryClassificationEvaluator,MulticlassClassificationEvaluator\n",
        "\n",
        "# AUROC\n",
        "bce= BinaryClassificationEvaluator(rawPredictionCol= \"rawPrediction\",labelCol=\"PersonalLoan\", metricName= \"areaUnderROC\")\n",
        "bce.evaluate(predictions)"
      ],
      "metadata": {
        "colab": {
          "base_uri": "https://localhost:8080/"
        },
        "id": "IijXqYOFx73K",
        "outputId": "4c751a60-8cbb-488e-8072-8322784733d5"
      },
      "execution_count": null,
      "outputs": [
        {
          "output_type": "execute_result",
          "data": {
            "text/plain": [
              "0.9946126101447288"
            ]
          },
          "metadata": {},
          "execution_count": 89
        }
      ]
    },
    {
      "cell_type": "code",
      "source": [
        "evaluator = MulticlassClassificationEvaluator(labelCol=\"PersonalLoan\", predictionCol=\"prediction\")\n",
        "accuracy = evaluator.evaluate(predictions)\n",
        "print(\"Accuracy = %s\" % (accuracy))\n",
        "print(\"Test Error = %s\" % (1.0 - accuracy))"
      ],
      "metadata": {
        "colab": {
          "base_uri": "https://localhost:8080/"
        },
        "id": "M0b6E04vpquA",
        "outputId": "83f0bcfa-edb8-425a-cb19-af86d6a2ff3b"
      },
      "execution_count": null,
      "outputs": [
        {
          "output_type": "stream",
          "name": "stdout",
          "text": [
            "Accuracy = 0.9863030991363915\n",
            "Test Error = 0.01369690086360853\n"
          ]
        }
      ]
    },
    {
      "cell_type": "code",
      "source": [
        "from pyspark.mllib.evaluation import MulticlassMetrics\n",
        "from pyspark.sql.types import FloatType\n",
        "import pyspark.sql.functions as F\n",
        "\n",
        "#Confusion Matrix\n",
        "preds_and_labels = predictions.select(['prediction','PersonalLoan',\"Income\", \"Family\", \"CCAvg\", \"Education\", \"Mortgage\", \"SecuritiesAccount\", \"CDAccount\", \"Online\", \"CreditCard\"]).withColumn('PersonalLoan', F.col('PersonalLoan').cast(FloatType()))\n",
        "preds_and_labels = preds_and_labels.select(['prediction','PersonalLoan'])\n",
        "metrics = MulticlassMetrics(preds_and_labels.rdd.map(tuple))\n",
        "print(f\"{metrics.confusionMatrix().toArray()}\")"
      ],
      "metadata": {
        "colab": {
          "base_uri": "https://localhost:8080/"
        },
        "id": "Ps_Ocg5zqD-C",
        "outputId": "7b55a664-6604-4e1b-fc23-deac6f48fb9f"
      },
      "execution_count": null,
      "outputs": [
        {
          "output_type": "stream",
          "name": "stdout",
          "text": [
            "[[1338.    3.]\n",
            " [  23.  124.]]\n"
          ]
        }
      ]
    },
    {
      "cell_type": "code",
      "source": [
        "# precision, recall, and F1 score for each label\n",
        "labels = preds_and_labels.select('PersonalLoan').distinct().rdd.flatMap(lambda x: x).collect()\n",
        "for label in sorted(labels):\n",
        "    print(f\"Class {label} metrics:\")\n",
        "    print(f\"  Precision: {metrics.precision(label):.4f}\")\n",
        "    print(f\"  Recall:    {metrics.recall(label):.4f}\")\n",
        "    print(f\"  F1 Score:  {metrics.fMeasure(label, beta=1.0):.4f}\")\n",
        "    print(f\"\\n\")\n",
        "\n",
        "# overall metrics\n",
        "print(f\"Overall Precision: {metrics.weightedPrecision:.4f}\")\n",
        "print(f\"Overall Recall:    {metrics.weightedRecall:.4f}\")\n",
        "print(f\"Overall F1 Score:  {metrics.weightedFMeasure():.4f}\")"
      ],
      "metadata": {
        "colab": {
          "base_uri": "https://localhost:8080/"
        },
        "id": "avs43ixR0iyP",
        "outputId": "c7155f6c-0a0b-4b68-f150-4a290b01c7cc"
      },
      "execution_count": null,
      "outputs": [
        {
          "output_type": "stream",
          "name": "stdout",
          "text": [
            "Class 0.0 metrics:\n",
            "  Precision: 0.9831\n",
            "  Recall:    0.9978\n",
            "  F1 Score:  0.9904\n",
            "\n",
            "\n",
            "Class 1.0 metrics:\n",
            "  Precision: 0.9764\n",
            "  Recall:    0.8435\n",
            "  F1 Score:  0.9051\n",
            "\n",
            "\n",
            "Overall Precision: 0.9824\n",
            "Overall Recall:    0.9825\n",
            "Overall F1 Score:  0.9820\n"
          ]
        }
      ]
    }
  ]
}